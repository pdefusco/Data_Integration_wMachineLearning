{
 "cells": [
  {
   "cell_type": "markdown",
   "metadata": {},
   "source": [
    "## Impyla Client Example"
   ]
  },
  {
   "cell_type": "markdown",
   "metadata": {},
   "source": [
    "#### You can use the Impyla library to connect directly to an Impala Data Warehouse in the Cloudera Data Warehouse Service\n",
    "\n",
    "#### Notice we are reusing the workload user and password variables we had set up for the phoenix client. Thanks to IDBroker, CDP will allow you to connect to different services using the same credentials - as long as your user and roles have been set at the environment/service level"
   ]
  },
  {
   "cell_type": "markdown",
   "metadata": {},
   "source": [
    "#### To find the Impala host, navigate to your CDW virtual warehouse and copy the url from the \"Copy JDBC URL button\". "
   ]
  },
  {
   "cell_type": "markdown",
   "metadata": {},
   "source": [
    "![title](images/Impala_copyurl.png)"
   ]
  },
  {
   "cell_type": "markdown",
   "metadata": {},
   "source": [
    "#### You will want to cut the value after the // and up to and including \".cloudera.site\"\n",
    "\n",
    "#### Finally, set this as an environment variable called \"IMPALA_HOST\""
   ]
  },
  {
   "cell_type": "code",
   "execution_count": 41,
   "metadata": {},
   "outputs": [
    {
     "name": "stdout",
     "output_type": "stream",
     "text": [
      "('_impala_builtins', 'System database for Impala builtin functions')\n",
      "('airline_ontime_orc', '')\n",
      "('airline_ontime_parquet', '')\n",
      "('airlinedata', '')\n",
      "('airlinedata_ml', '')\n",
      "('airlinedata_parquet', '')\n",
      "('airlinedata_ws', '')\n",
      "('bank_a', '')\n",
      "('dbgr', '')\n",
      "('default', 'Default Hive database')\n",
      "('druid_hive', '')\n",
      "('factory', '')\n",
      "('flight', '')\n",
      "('football', '')\n",
      "('globe_demo', '')\n",
      "('hr', '')\n",
      "('insurance_fraud', '')\n",
      "('iot', '')\n",
      "('marketing', '')\n",
      "('org', '')\n",
      "('praseed_db', '')\n",
      "('prescribing_o', '')\n",
      "('prescribing_p', '')\n",
      "('prescribing_p_e', '')\n",
      "('prescribing_p_rf1', '')\n",
      "('prescribing_p_rf3', '')\n",
      "('retail', '')\n",
      "('retaildemo', '')\n",
      "('rtheron', '')\n",
      "('sales', '')\n",
      "('sensordb', '')\n",
      "('texasppp', '')\n",
      "('tpcds', '')\n",
      "('tpcds_orc', '')\n",
      "('ukcrime', '')\n",
      "('ukcrime_dev', '')\n",
      "('versicherung_aut', '')\n"
     ]
    }
   ],
   "source": [
    "import os\n",
    "import pandas\n",
    "from impala.dbapi import connect\n",
    "from impala.util import as_pandas\n",
    "\n",
    "IMPALA_PORT=\"443\" \n",
    "\n",
    "conn = connect(host=os.environ[\"IMPALA_HOST\"],\n",
    "               port=IMPALA_PORT,\n",
    "               auth_mechanism=\"LDAP\",\n",
    "               user=WORKLOAD_USER,\n",
    "               password=WORKLOAD_PASSWORD,\n",
    "               use_http_transport=True,\n",
    "               http_path=\"/cliservice\",\n",
    "               use_ssl=True)\n",
    "\n",
    "# Execute using SQL\n",
    "# cursor = conn.cursor()\n",
    "cursor = conn.cursor()\n",
    "cursor.execute('show databases')\n",
    "for row in cursor:\n",
    "    print(row)"
   ]
  },
  {
   "cell_type": "code",
   "execution_count": null,
   "metadata": {},
   "outputs": [],
   "source": []
  }
 ],
 "metadata": {
  "kernelspec": {
   "display_name": "Python 3",
   "language": "python",
   "name": "python3"
  },
  "language_info": {
   "codemirror_mode": {
    "name": "ipython",
    "version": 3
   },
   "file_extension": ".py",
   "mimetype": "text/x-python",
   "name": "python",
   "nbconvert_exporter": "python",
   "pygments_lexer": "ipython3",
   "version": "3.6.10"
  }
 },
 "nbformat": 4,
 "nbformat_minor": 4
}
