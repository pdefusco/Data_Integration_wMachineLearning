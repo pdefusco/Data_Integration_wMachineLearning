{
 "cells": [
  {
   "cell_type": "markdown",
   "metadata": {},
   "source": [
    "## End to End Workflow"
   ]
  },
  {
   "cell_type": "markdown",
   "metadata": {},
   "source": [
    "## Step 1:  Imports and setup\n",
    "\n",
    "The following is just boilerplate code that sets up the Spark session and sets some other non-essential configuration options"
   ]
  },
  {
   "cell_type": "code",
   "execution_count": 1,
   "metadata": {},
   "outputs": [],
   "source": [
    "from pyspark.context import SparkContext, SparkConf\n",
    "from pyspark.sql import SparkSession, Window\n",
    "from pyspark.sql.types import StructType\n",
    "import pyspark.sql.functions as f\n",
    "from pyspark.sql.types import StructType,StructField, StringType, IntegerType"
   ]
  },
  {
   "cell_type": "code",
   "execution_count": 2,
   "metadata": {},
   "outputs": [
    {
     "name": "stdout",
     "output_type": "stream",
     "text": [
      "The correct Cloud Storage URL is: s3a://demo-aws-2\n"
     ]
    }
   ],
   "source": [
    "import os\n",
    "import time\n",
    "import json\n",
    "import requests\n",
    "import xml.etree.ElementTree as ET\n",
    "import datetime\n",
    "\n",
    "#Extracting the correct URL from hive-site.xml\n",
    "tree = ET.parse('/etc/hadoop/conf/hive-site.xml')\n",
    "root = tree.getroot()\n",
    "\n",
    "for prop in root.findall('property'):\n",
    "    if prop.find('name').text == \"hive.metastore.warehouse.dir\":\n",
    "        storage = prop.find('value').text.split(\"/\")[0] + \"//\" + prop.find('value').text.split(\"/\")[2]\n",
    "\n",
    "print(\"The correct Cloud Storage URL is: {}\".format(storage))\n",
    "\n",
    "os.environ['STORAGE'] = storage"
   ]
  },
  {
   "cell_type": "code",
   "execution_count": 3,
   "metadata": {},
   "outputs": [],
   "source": [
    "#conf=SparkConf()\n",
    "\n",
    "# Load in a jar that provides extended string comparison functions such as Jaro Winkler.\n",
    "# Splink\n",
    "#     conf.set('spark.driver.extraClassPath', 'jars/scala-udf-similarity-0.0.6.jar,jars/graphframes-0.6.0-spark2.3-s_2.11.jar')\n",
    "#     conf.set('spark.jars', 'jars/scala-udf-similarity-0.0.6.jar,jars/graphframes-0.6.0-spark2.3-s_2.11.jar')\n",
    "#conf.set('spark.driver.extraClassPath', 'jars/scala-udf-similarity-0.0.6.jar')\n",
    "#conf.set('spark.jars', 'jars/scala-udf-similarity-0.0.6.jar')\n",
    "#conf.set('spark.jars.packages', 'graphframes:graphframes:0.6.0-spark2.3-s_2.11')\n",
    "\n",
    "#sc = SparkContext.getOrCreate(conf=conf)\n",
    "#sc.setCheckpointDir(\"temp_graphframes/\")\n",
    "\n",
    "\n",
    "spark = SparkSession\\\n",
    "    .builder\\\n",
    "    .appName(\"Entity Resolution with Lineage\")\\\n",
    "    .config(\"spark.hadoop.fs.s3a.s3guard.ddb.region\",\"us-east-1\")\\\n",
    "    .config(\"spark.yarn.access.hadoopFileSystems\", os.environ['STORAGE'])\\\n",
    "    .config(\"spark.driver.extraClassPath\", \"jars/scala-udf-similarity-0.0.6.jar\")\\\n",
    "    .config(\"spark.jars\", \"jars/scala-udf-similarity-0.0.6.jar\")\\\n",
    "    .getOrCreate()\n",
    "\n",
    "# Register UDFs\n",
    "from pyspark.sql import types\n",
    "spark.udf.registerJavaFunction('jaro_winkler_sim', 'uk.gov.moj.dash.linkage.JaroWinklerSimilarity', types.DoubleType())\n",
    "spark.udf.registerJavaFunction('Dmetaphone', 'uk.gov.moj.dash.linkage.DoubleMetaphone', types.StringType())"
   ]
  },
  {
   "cell_type": "code",
   "execution_count": 4,
   "metadata": {},
   "outputs": [
    {
     "data": {
      "text/html": [
       "\n",
       "            <div>\n",
       "                <p><b>SparkSession - hive</b></p>\n",
       "                \n",
       "        <div>\n",
       "            <p><b>SparkContext</b></p>\n",
       "\n",
       "            <p><a href=\"http://100.100.21.83:20049\">Spark UI</a></p>\n",
       "\n",
       "            <dl>\n",
       "              <dt>Version</dt>\n",
       "                <dd><code>v2.4.5.7.2.2.0-244</code></dd>\n",
       "              <dt>Master</dt>\n",
       "                <dd><code>k8s://https://172.20.0.1:443</code></dd>\n",
       "              <dt>AppName</dt>\n",
       "                <dd><code>Entity Resolution with Lineage</code></dd>\n",
       "            </dl>\n",
       "        </div>\n",
       "        \n",
       "            </div>\n",
       "        "
      ],
      "text/plain": [
       "<pyspark.sql.session.SparkSession at 0x7f97da732710>"
      ]
     },
     "execution_count": 4,
     "metadata": {},
     "output_type": "execute_result"
    }
   ],
   "source": [
    "spark"
   ]
  },
  {
   "cell_type": "code",
   "execution_count": 5,
   "metadata": {},
   "outputs": [],
   "source": [
    "import pandas as pd \n",
    "pd.options.display.max_columns = 500"
   ]
  },
  {
   "cell_type": "code",
   "execution_count": 6,
   "metadata": {},
   "outputs": [],
   "source": [
    "import logging \n",
    "logging.basicConfig()  # Means logs will print in Jupyter Lab\n",
    "\n",
    "# Set to DEBUG if you want splink to log the SQL statements it's executing under the hood\n",
    "logging.getLogger(\"splink\").setLevel(logging.INFO)"
   ]
  },
  {
   "cell_type": "markdown",
   "metadata": {},
   "source": [
    "## Step 2: Read in the data\n",
    "\n",
    "The `l` and `r` stand for 'left' and 'right.  It doesn't matter which of the two datasets you choose as the left, performance and results will be the same.\n",
    "\n",
    "⚠️ Note that `splink` makes the following assumptions about your data:\n",
    "\n",
    "-  There is a field containing a unique record identifier in each dataset\n",
    "-  The two datasets being linked have common column names - e.g. date of birth is represented in both datasets in a field of the same name.   In many cases, this means that the user needs to rename columns prior to using `splink`\n"
   ]
  },
  {
   "cell_type": "markdown",
   "metadata": {},
   "source": [
    "##### READING FROM PHOENIX INTO A SPARK DF"
   ]
  },
  {
   "cell_type": "code",
   "execution_count": 7,
   "metadata": {},
   "outputs": [],
   "source": [
    "class Db:\n",
    "    def __init__(self):\n",
    "        opts = {}\n",
    "        opts['authentication'] = 'BASIC'\n",
    "        opts['avatica_user'] = os.environ[\"WORKLOAD_USER\"]\n",
    "        opts['avatica_password'] = os.environ[\"WORKLOAD_PASSWORD\"]\n",
    "        database_url = os.environ[\"OPDB_ENDPOINT_AWS2\"]\n",
    "        self.TABLENAME = \"test_table_paul\"\n",
    "        self.conn = phoenixdb.connect(database_url, autocommit=True,**opts)\n",
    "        self.curs = self.conn.cursor()\n",
    "        \n",
    "    def get_data(self):\n",
    "\n",
    "        query = f\"SELECT * FROM CML_WORKSHOP_TABLE_RIGHT\"\n",
    "\n",
    "        model.curs.execute(query)\n",
    "        rows = model.curs.fetchall()\n",
    "\n",
    "        return rows"
   ]
  },
  {
   "cell_type": "code",
   "execution_count": 8,
   "metadata": {},
   "outputs": [],
   "source": [
    "import logging\n",
    "logging.basicConfig( level=logging.DEBUG)\n",
    "\n",
    "import os\n",
    "import phoenixdb\n",
    "model = Db()"
   ]
  },
  {
   "cell_type": "code",
   "execution_count": 9,
   "metadata": {},
   "outputs": [],
   "source": [
    "phoenix_df = model.get_data()"
   ]
  },
  {
   "cell_type": "code",
   "execution_count": 10,
   "metadata": {},
   "outputs": [],
   "source": [
    "schema = StructType([StructField('unique_id', StringType(), True),\n",
    "                     StructField('first_name', StringType(), True), \n",
    "                     StructField('surname', StringType(), True), \n",
    "                     StructField('dob', StringType(), True), \n",
    "                     StructField('city', StringType(), True), \n",
    "                     StructField('email', StringType(), True), \n",
    "                     StructField('group', StringType(), True)])"
   ]
  },
  {
   "cell_type": "code",
   "execution_count": 23,
   "metadata": {},
   "outputs": [],
   "source": [
    "right_df = spark.createDataFrame(phoenix_df, schema=schema)"
   ]
  },
  {
   "cell_type": "code",
   "execution_count": 24,
   "metadata": {},
   "outputs": [],
   "source": [
    "right_df = right_df.withColumn(\"source_dataset\", f.lit(\"df_r\"))"
   ]
  },
  {
   "cell_type": "markdown",
   "metadata": {},
   "source": [
    "##### READING FROM HIVE INTO A SPARK DF"
   ]
  },
  {
   "cell_type": "code",
   "execution_count": 25,
   "metadata": {},
   "outputs": [],
   "source": [
    "left_df = spark.sql(\"SELECT * FROM default.mytable\")"
   ]
  },
  {
   "cell_type": "code",
   "execution_count": 26,
   "metadata": {},
   "outputs": [],
   "source": [
    "left_df = right_df.withColumn(\"source_dataset\", f.lit(\"df_l\"))"
   ]
  },
  {
   "cell_type": "code",
   "execution_count": 27,
   "metadata": {},
   "outputs": [
    {
     "name": "stdout",
     "output_type": "stream",
     "text": [
      "+---------+----------+-------+----------+--------------+--------------------+-----+--------------+\n",
      "|unique_id|first_name|surname|       dob|          city|               email|group|source_dataset|\n",
      "+---------+----------+-------+----------+--------------+--------------------+-----+--------------+\n",
      "|        0|    Julia |   None|2015-10-29|        London| hannah88@powers.com|    0|          df_l|\n",
      "|      105|    Harry |  Tomas|2011-07-30|        Belast|sandra26@anderson...|   21|          df_l|\n",
      "|      115|      None|   Ells|2013-01-20|Stoke-on-Trent|wmcdaniel@nelson.net|   22|          df_l|\n",
      "|      122| Isabella | Wallca|2000-03-24|        London|hilltheresa@pears...|   23|          df_l|\n",
      "|      128|   Edward |   wLis|2005-04-09|          None|whitakernichole@b...|   24|          df_l|\n",
      "+---------+----------+-------+----------+--------------+--------------------+-----+--------------+\n",
      "only showing top 5 rows\n",
      "\n",
      "+---------+----------+-------+----------+--------------+--------------------+-----+--------------+\n",
      "|unique_id|first_name|surname|       dob|          city|               email|group|source_dataset|\n",
      "+---------+----------+-------+----------+--------------+--------------------+-----+--------------+\n",
      "|        0|    Julia |   None|2015-10-29|        London| hannah88@powers.com|    0|          df_r|\n",
      "|      105|    Harry |  Tomas|2011-07-30|        Belast|sandra26@anderson...|   21|          df_r|\n",
      "|      115|      None|   Ells|2013-01-20|Stoke-on-Trent|wmcdaniel@nelson.net|   22|          df_r|\n",
      "|      122| Isabella | Wallca|2000-03-24|        London|hilltheresa@pears...|   23|          df_r|\n",
      "|      128|   Edward |   wLis|2005-04-09|          None|whitakernichole@b...|   24|          df_r|\n",
      "+---------+----------+-------+----------+--------------+--------------------+-----+--------------+\n",
      "only showing top 5 rows\n",
      "\n"
     ]
    }
   ],
   "source": [
    "left_df.show(5)\n",
    "right_df.show(5)"
   ]
  },
  {
   "cell_type": "markdown",
   "metadata": {},
   "source": [
    "## Step 3:  Configure splink using the `settings` object\n",
    "\n",
    "Most of `splink` configuration options are stored in a settings dictionary.  This dictionary allows significant customisation, and can therefore get quite complex.  \n",
    "\n",
    "💥 We provide an tool for helping to author valid settings dictionaries, which includes tooltips and autocomplete, which you can find [here](http://robinlinacre.com/splink_settings_editor/).\n",
    "\n",
    "Customisation overrides default values built into splink.  For the purposes of this demo, we will specify a simple settings dictionary, which means we will be relying on these sensible defaults.\n",
    "\n",
    "To help with authoring and validation of the settings dictionary, we have written a [json schema](https://json-schema.org/), which can be found [here](https://github.com/moj-analytical-services/splink/blob/master/splink/files/settings_jsonschema.json).  \n",
    "\n",
    "\n"
   ]
  },
  {
   "cell_type": "code",
   "execution_count": 30,
   "metadata": {},
   "outputs": [],
   "source": [
    "# The comparison expression allows for the case where a first name and surname have been inverted \n",
    "sql_case_expression = \"\"\"\n",
    "CASE \n",
    "WHEN first_name_l = first_name_r AND surname_l = surname_r THEN 4 \n",
    "WHEN first_name_l = surname_r AND surname_l = first_name_r THEN 3\n",
    "WHEN first_name_l = first_name_r THEN 2\n",
    "WHEN surname_l = surname_r THEN 1\n",
    "ELSE 0 \n",
    "END\n",
    "\"\"\"\n",
    "\n",
    "settings = {\n",
    "    \"link_type\": \"link_only\", \n",
    "    \"max_iterations\": 20,\n",
    "    \"blocking_rules\": [\n",
    "    ],\n",
    "    \"comparison_columns\": [\n",
    "       {\n",
    "            \"custom_name\": \"name_inversion\",\n",
    "            \"custom_columns_used\": [\"first_name\", \"surname\"],\n",
    "            \"case_expression\": sql_case_expression,\n",
    "            \"num_levels\": 5\n",
    "        },\n",
    "        {\n",
    "            \"col_name\": \"city\",\n",
    "            \"num_levels\": 3\n",
    "        },\n",
    "        {\n",
    "            \"col_name\": \"email\",\n",
    "            \"num_levels\": 3\n",
    "        },\n",
    "        {\n",
    "            \"col_name\": \"dob\"\n",
    "        }\n",
    "    ],\n",
    "    \"additional_columns_to_retain\": [\"group\"]\n",
    "    \n",
    "}"
   ]
  },
  {
   "cell_type": "markdown",
   "metadata": {},
   "source": [
    "In words, this setting dictionary says:\n",
    "\n",
    "- We are performing a data linking task (the other options are `dedupe_only`, or `link_and_dedupe`)\n",
    "- Rather than generate all possible comparisons (the cartesian product of the input datasets), we are going restrict record comparisons to those generated by at least one of the rules in the specified array\n",
    "- When comparing records, we will use information from the `first_name`, `surname`, `dob`, `city` and `email` columns to compute a match score.\n",
    "- For `first_name` and `surname`, string comparisons will have three levels:\n",
    "    - Level 2: Strings are (almost) exactly the same\n",
    "    - Level 1: Strings are similar \n",
    "    - Level 0: No match\n",
    "- We will make adjustments for term frequencies on the `first_name` and `surname` columns\n",
    "- We will retain the `group` column in the results even though this is not used as part of comparisons.  This is a labelled dataset and `group` contains the true match - i.e. where group matches, the records pertain to the same person"
   ]
  },
  {
   "cell_type": "markdown",
   "metadata": {},
   "source": [
    "## Step 4:  Estimate match scores using the Expectation Maximisation algorithm"
   ]
  },
  {
   "cell_type": "code",
   "execution_count": 31,
   "metadata": {},
   "outputs": [
    {
     "name": "stderr",
     "output_type": "stream",
     "text": [
      "/home/cdsw/.local/lib/python3.6/site-packages/splink/default_settings.py:175: UserWarning: You have not specified any blocking rules, meaning all comparisons between the input dataset(s) will be generated and blocking will not be used.For large input datasets, this will generally be computationally intractable because it will generate comparisons equal to the number of rows squared.\n",
      "  \"You have not specified any blocking rules, meaning all comparisons between the \"\n",
      "INFO:splink.iterate:Iteration 0 complete\n",
      "INFO:splink.model:The maximum change in parameters was 0.3704400897026062 for key name_inversion, level 0\n",
      "INFO:splink.iterate:Iteration 1 complete\n",
      "INFO:splink.model:The maximum change in parameters was 0.0720943808555603 for key name_inversion, level 4\n",
      "INFO:splink.iterate:Iteration 2 complete\n",
      "INFO:splink.model:The maximum change in parameters was 0.013827092945575714 for key dob, level 0\n",
      "INFO:splink.iterate:Iteration 3 complete\n",
      "INFO:splink.model:The maximum change in parameters was 0.0013318657875061035 for key dob, level 1\n",
      "INFO:splink.iterate:Iteration 4 complete\n",
      "INFO:splink.model:The maximum change in parameters was 9.26434401127274e-06 for key dob, level 0\n",
      "INFO:splink.iterate:EM algorithm has converged\n"
     ]
    }
   ],
   "source": [
    "from splink import Splink\n",
    "\n",
    "linker = Splink(settings, [left_df, right_df], spark)\n",
    "df_linked = linker.get_scored_comparisons()"
   ]
  },
  {
   "cell_type": "code",
   "execution_count": 32,
   "metadata": {},
   "outputs": [
    {
     "data": {
      "text/html": [
       "<div>\n",
       "<style scoped>\n",
       "    .dataframe tbody tr th:only-of-type {\n",
       "        vertical-align: middle;\n",
       "    }\n",
       "\n",
       "    .dataframe tbody tr th {\n",
       "        vertical-align: top;\n",
       "    }\n",
       "\n",
       "    .dataframe thead th {\n",
       "        text-align: right;\n",
       "    }\n",
       "</style>\n",
       "<table border=\"1\" class=\"dataframe\">\n",
       "  <thead>\n",
       "    <tr style=\"text-align: right;\">\n",
       "      <th></th>\n",
       "      <th>match_probability</th>\n",
       "      <th>source_dataset_l</th>\n",
       "      <th>unique_id_l</th>\n",
       "      <th>source_dataset_r</th>\n",
       "      <th>unique_id_r</th>\n",
       "      <th>first_name_l</th>\n",
       "      <th>first_name_r</th>\n",
       "      <th>surname_l</th>\n",
       "      <th>surname_r</th>\n",
       "      <th>gamma_name_inversion</th>\n",
       "      <th>city_l</th>\n",
       "      <th>city_r</th>\n",
       "      <th>gamma_city</th>\n",
       "      <th>email_l</th>\n",
       "      <th>email_r</th>\n",
       "      <th>gamma_email</th>\n",
       "      <th>dob_l</th>\n",
       "      <th>dob_r</th>\n",
       "      <th>gamma_dob</th>\n",
       "      <th>group_l</th>\n",
       "      <th>group_r</th>\n",
       "    </tr>\n",
       "  </thead>\n",
       "  <tbody>\n",
       "    <tr>\n",
       "      <th>7816</th>\n",
       "      <td>7.898760e-61</td>\n",
       "      <td>df_l</td>\n",
       "      <td>558</td>\n",
       "      <td>df_r</td>\n",
       "      <td>49</td>\n",
       "      <td>Zachary</td>\n",
       "      <td>Theodore</td>\n",
       "      <td>Namen</td>\n",
       "      <td>None</td>\n",
       "      <td>0</td>\n",
       "      <td>London</td>\n",
       "      <td>Leeds</td>\n",
       "      <td>0</td>\n",
       "      <td>jessicapowell@hardin-mcgee.net</td>\n",
       "      <td>markstewart@gross.com</td>\n",
       "      <td>0</td>\n",
       "      <td>1987-04-03</td>\n",
       "      <td>1982-09-10</td>\n",
       "      <td>0</td>\n",
       "      <td>94</td>\n",
       "      <td>12</td>\n",
       "    </tr>\n",
       "    <tr>\n",
       "      <th>4979</th>\n",
       "      <td>7.898760e-61</td>\n",
       "      <td>df_l</td>\n",
       "      <td>394</td>\n",
       "      <td>df_r</td>\n",
       "      <td>261</td>\n",
       "      <td>None</td>\n",
       "      <td>Florence</td>\n",
       "      <td>Davis</td>\n",
       "      <td>Morris</td>\n",
       "      <td>0</td>\n",
       "      <td>Ipswich</td>\n",
       "      <td>Southampton</td>\n",
       "      <td>0</td>\n",
       "      <td>jose33@trujillo.net</td>\n",
       "      <td>paul49@allen.biz</td>\n",
       "      <td>0</td>\n",
       "      <td>2001-07-13</td>\n",
       "      <td>1993-01-29</td>\n",
       "      <td>0</td>\n",
       "      <td>67</td>\n",
       "      <td>45</td>\n",
       "    </tr>\n",
       "    <tr>\n",
       "      <th>20583</th>\n",
       "      <td>7.898760e-61</td>\n",
       "      <td>df_l</td>\n",
       "      <td>799</td>\n",
       "      <td>df_r</td>\n",
       "      <td>431</td>\n",
       "      <td>Benjamin</td>\n",
       "      <td>Lucy</td>\n",
       "      <td>Kelly</td>\n",
       "      <td>Stone</td>\n",
       "      <td>0</td>\n",
       "      <td>Loodn</td>\n",
       "      <td>Middbeslough</td>\n",
       "      <td>0</td>\n",
       "      <td>joshua10@werner.com</td>\n",
       "      <td>ppruitt@kirby.org</td>\n",
       "      <td>0</td>\n",
       "      <td>2018-12-20</td>\n",
       "      <td>2011-11-26</td>\n",
       "      <td>0</td>\n",
       "      <td>141</td>\n",
       "      <td>73</td>\n",
       "    </tr>\n",
       "    <tr>\n",
       "      <th>26922</th>\n",
       "      <td>7.898760e-61</td>\n",
       "      <td>df_l</td>\n",
       "      <td>714</td>\n",
       "      <td>df_r</td>\n",
       "      <td>924</td>\n",
       "      <td>Hughes</td>\n",
       "      <td>Mills</td>\n",
       "      <td>Arthur</td>\n",
       "      <td>Thomas</td>\n",
       "      <td>0</td>\n",
       "      <td>Sheffield</td>\n",
       "      <td>London</td>\n",
       "      <td>0</td>\n",
       "      <td>eileenlopez@mcmahon-long.info</td>\n",
       "      <td>hensondebbie@garcia.com</td>\n",
       "      <td>0</td>\n",
       "      <td>1998-08-24</td>\n",
       "      <td>1970-03-09</td>\n",
       "      <td>0</td>\n",
       "      <td>121</td>\n",
       "      <td>167</td>\n",
       "    </tr>\n",
       "    <tr>\n",
       "      <th>15939</th>\n",
       "      <td>7.898760e-61</td>\n",
       "      <td>df_l</td>\n",
       "      <td>558</td>\n",
       "      <td>df_r</td>\n",
       "      <td>644</td>\n",
       "      <td>Zachary</td>\n",
       "      <td>Daniel</td>\n",
       "      <td>Namen</td>\n",
       "      <td>Palmer</td>\n",
       "      <td>0</td>\n",
       "      <td>London</td>\n",
       "      <td>oodLn</td>\n",
       "      <td>0</td>\n",
       "      <td>jessicapowell@hardin-mcgee.net</td>\n",
       "      <td>None</td>\n",
       "      <td>0</td>\n",
       "      <td>1987-04-03</td>\n",
       "      <td>2016-06-14</td>\n",
       "      <td>0</td>\n",
       "      <td>94</td>\n",
       "      <td>109</td>\n",
       "    </tr>\n",
       "  </tbody>\n",
       "</table>\n",
       "</div>"
      ],
      "text/plain": [
       "       match_probability source_dataset_l unique_id_l source_dataset_r  \\\n",
       "7816        7.898760e-61             df_l         558             df_r   \n",
       "4979        7.898760e-61             df_l         394             df_r   \n",
       "20583       7.898760e-61             df_l         799             df_r   \n",
       "26922       7.898760e-61             df_l         714             df_r   \n",
       "15939       7.898760e-61             df_l         558             df_r   \n",
       "\n",
       "      unique_id_r first_name_l first_name_r surname_l surname_r  \\\n",
       "7816           49     Zachary     Theodore      Namen      None   \n",
       "4979          261         None    Florence      Davis    Morris   \n",
       "20583         431    Benjamin         Lucy      Kelly     Stone   \n",
       "26922         924       Hughes        Mills   Arthur    Thomas    \n",
       "15939         644     Zachary       Daniel      Namen    Palmer   \n",
       "\n",
       "       gamma_name_inversion     city_l        city_r  gamma_city  \\\n",
       "7816                      0     London         Leeds           0   \n",
       "4979                      0    Ipswich   Southampton           0   \n",
       "20583                     0      Loodn  Middbeslough           0   \n",
       "26922                     0  Sheffield        London           0   \n",
       "15939                     0     London         oodLn           0   \n",
       "\n",
       "                              email_l                  email_r  gamma_email  \\\n",
       "7816   jessicapowell@hardin-mcgee.net    markstewart@gross.com            0   \n",
       "4979              jose33@trujillo.net         paul49@allen.biz            0   \n",
       "20583             joshua10@werner.com        ppruitt@kirby.org            0   \n",
       "26922   eileenlopez@mcmahon-long.info  hensondebbie@garcia.com            0   \n",
       "15939  jessicapowell@hardin-mcgee.net                     None            0   \n",
       "\n",
       "            dob_l       dob_r  gamma_dob group_l group_r  \n",
       "7816   1987-04-03  1982-09-10          0      94      12  \n",
       "4979   2001-07-13  1993-01-29          0      67      45  \n",
       "20583  2018-12-20  2011-11-26          0     141      73  \n",
       "26922  1998-08-24  1970-03-09          0     121     167  \n",
       "15939  1987-04-03  2016-06-14          0      94     109  "
      ]
     },
     "execution_count": 32,
     "metadata": {},
     "output_type": "execute_result"
    }
   ],
   "source": [
    "# Inspect main dataframe that contains the match scores\n",
    "df_linked.toPandas().sample(5)"
   ]
  },
  {
   "cell_type": "code",
   "execution_count": 94,
   "metadata": {},
   "outputs": [],
   "source": [
    "df_linked.write.format(\"parquet\").mode(\"overwrite\").saveAsTable('default.matches_spark_table')"
   ]
  },
  {
   "cell_type": "markdown",
   "metadata": {},
   "source": [
    "##### UPLOADING DATA TO IMPALA"
   ]
  },
  {
   "cell_type": "markdown",
   "metadata": {},
   "source": [
    "Preparing data before insertion"
   ]
  },
  {
   "cell_type": "code",
   "execution_count": 33,
   "metadata": {},
   "outputs": [],
   "source": [
    "df_impala = df_linked.toPandas()"
   ]
  },
  {
   "cell_type": "code",
   "execution_count": 34,
   "metadata": {},
   "outputs": [
    {
     "data": {
      "text/html": [
       "<div>\n",
       "<style scoped>\n",
       "    .dataframe tbody tr th:only-of-type {\n",
       "        vertical-align: middle;\n",
       "    }\n",
       "\n",
       "    .dataframe tbody tr th {\n",
       "        vertical-align: top;\n",
       "    }\n",
       "\n",
       "    .dataframe thead th {\n",
       "        text-align: right;\n",
       "    }\n",
       "</style>\n",
       "<table border=\"1\" class=\"dataframe\">\n",
       "  <thead>\n",
       "    <tr style=\"text-align: right;\">\n",
       "      <th></th>\n",
       "      <th>match_probability</th>\n",
       "      <th>source_dataset_l</th>\n",
       "      <th>unique_id_l</th>\n",
       "      <th>source_dataset_r</th>\n",
       "      <th>unique_id_r</th>\n",
       "      <th>first_name_l</th>\n",
       "      <th>first_name_r</th>\n",
       "      <th>surname_l</th>\n",
       "      <th>surname_r</th>\n",
       "      <th>gamma_name_inversion</th>\n",
       "      <th>city_l</th>\n",
       "      <th>city_r</th>\n",
       "      <th>gamma_city</th>\n",
       "      <th>email_l</th>\n",
       "      <th>email_r</th>\n",
       "      <th>gamma_email</th>\n",
       "      <th>dob_l</th>\n",
       "      <th>dob_r</th>\n",
       "      <th>gamma_dob</th>\n",
       "      <th>group_l</th>\n",
       "      <th>group_r</th>\n",
       "    </tr>\n",
       "  </thead>\n",
       "  <tbody>\n",
       "    <tr>\n",
       "      <th>0</th>\n",
       "      <td>1.000000e+00</td>\n",
       "      <td>df_l</td>\n",
       "      <td>0</td>\n",
       "      <td>df_r</td>\n",
       "      <td>0</td>\n",
       "      <td>Julia</td>\n",
       "      <td>Julia</td>\n",
       "      <td>None</td>\n",
       "      <td>None</td>\n",
       "      <td>4</td>\n",
       "      <td>London</td>\n",
       "      <td>London</td>\n",
       "      <td>2</td>\n",
       "      <td>hannah88@powers.com</td>\n",
       "      <td>hannah88@powers.com</td>\n",
       "      <td>2</td>\n",
       "      <td>2015-10-29</td>\n",
       "      <td>2015-10-29</td>\n",
       "      <td>1</td>\n",
       "      <td>0</td>\n",
       "      <td>0</td>\n",
       "    </tr>\n",
       "    <tr>\n",
       "      <th>1</th>\n",
       "      <td>7.898760e-61</td>\n",
       "      <td>df_l</td>\n",
       "      <td>0</td>\n",
       "      <td>df_r</td>\n",
       "      <td>105</td>\n",
       "      <td>Julia</td>\n",
       "      <td>Harry</td>\n",
       "      <td>None</td>\n",
       "      <td>Tomas</td>\n",
       "      <td>0</td>\n",
       "      <td>London</td>\n",
       "      <td>Belast</td>\n",
       "      <td>0</td>\n",
       "      <td>hannah88@powers.com</td>\n",
       "      <td>sandra26@anderson-davis.com</td>\n",
       "      <td>0</td>\n",
       "      <td>2015-10-29</td>\n",
       "      <td>2011-07-30</td>\n",
       "      <td>0</td>\n",
       "      <td>0</td>\n",
       "      <td>21</td>\n",
       "    </tr>\n",
       "    <tr>\n",
       "      <th>2</th>\n",
       "      <td>7.898760e-61</td>\n",
       "      <td>df_l</td>\n",
       "      <td>0</td>\n",
       "      <td>df_r</td>\n",
       "      <td>115</td>\n",
       "      <td>Julia</td>\n",
       "      <td>None</td>\n",
       "      <td>None</td>\n",
       "      <td>Ells</td>\n",
       "      <td>0</td>\n",
       "      <td>London</td>\n",
       "      <td>Stoke-on-Trent</td>\n",
       "      <td>0</td>\n",
       "      <td>hannah88@powers.com</td>\n",
       "      <td>wmcdaniel@nelson.net</td>\n",
       "      <td>0</td>\n",
       "      <td>2015-10-29</td>\n",
       "      <td>2013-01-20</td>\n",
       "      <td>0</td>\n",
       "      <td>0</td>\n",
       "      <td>22</td>\n",
       "    </tr>\n",
       "    <tr>\n",
       "      <th>3</th>\n",
       "      <td>8.285076e-35</td>\n",
       "      <td>df_l</td>\n",
       "      <td>0</td>\n",
       "      <td>df_r</td>\n",
       "      <td>122</td>\n",
       "      <td>Julia</td>\n",
       "      <td>Isabella</td>\n",
       "      <td>None</td>\n",
       "      <td>Wallca</td>\n",
       "      <td>0</td>\n",
       "      <td>London</td>\n",
       "      <td>London</td>\n",
       "      <td>2</td>\n",
       "      <td>hannah88@powers.com</td>\n",
       "      <td>hilltheresa@pearson.org</td>\n",
       "      <td>0</td>\n",
       "      <td>2015-10-29</td>\n",
       "      <td>2000-03-24</td>\n",
       "      <td>0</td>\n",
       "      <td>0</td>\n",
       "      <td>23</td>\n",
       "    </tr>\n",
       "    <tr>\n",
       "      <th>4</th>\n",
       "      <td>7.898760e-61</td>\n",
       "      <td>df_l</td>\n",
       "      <td>0</td>\n",
       "      <td>df_r</td>\n",
       "      <td>128</td>\n",
       "      <td>Julia</td>\n",
       "      <td>Edward</td>\n",
       "      <td>None</td>\n",
       "      <td>wLis</td>\n",
       "      <td>0</td>\n",
       "      <td>London</td>\n",
       "      <td>None</td>\n",
       "      <td>0</td>\n",
       "      <td>hannah88@powers.com</td>\n",
       "      <td>whitakernichole@booth.com</td>\n",
       "      <td>0</td>\n",
       "      <td>2015-10-29</td>\n",
       "      <td>2005-04-09</td>\n",
       "      <td>0</td>\n",
       "      <td>0</td>\n",
       "      <td>24</td>\n",
       "    </tr>\n",
       "  </tbody>\n",
       "</table>\n",
       "</div>"
      ],
      "text/plain": [
       "   match_probability source_dataset_l unique_id_l source_dataset_r  \\\n",
       "0       1.000000e+00             df_l           0             df_r   \n",
       "1       7.898760e-61             df_l           0             df_r   \n",
       "2       7.898760e-61             df_l           0             df_r   \n",
       "3       8.285076e-35             df_l           0             df_r   \n",
       "4       7.898760e-61             df_l           0             df_r   \n",
       "\n",
       "  unique_id_r first_name_l first_name_r surname_l surname_r  \\\n",
       "0           0       Julia        Julia       None      None   \n",
       "1         105       Julia        Harry       None     Tomas   \n",
       "2         115       Julia          None      None      Ells   \n",
       "3         122       Julia     Isabella       None    Wallca   \n",
       "4         128       Julia       Edward       None      wLis   \n",
       "\n",
       "   gamma_name_inversion  city_l          city_r  gamma_city  \\\n",
       "0                     4  London          London           2   \n",
       "1                     0  London          Belast           0   \n",
       "2                     0  London  Stoke-on-Trent           0   \n",
       "3                     0  London          London           2   \n",
       "4                     0  London            None           0   \n",
       "\n",
       "               email_l                      email_r  gamma_email       dob_l  \\\n",
       "0  hannah88@powers.com          hannah88@powers.com            2  2015-10-29   \n",
       "1  hannah88@powers.com  sandra26@anderson-davis.com            0  2015-10-29   \n",
       "2  hannah88@powers.com         wmcdaniel@nelson.net            0  2015-10-29   \n",
       "3  hannah88@powers.com      hilltheresa@pearson.org            0  2015-10-29   \n",
       "4  hannah88@powers.com    whitakernichole@booth.com            0  2015-10-29   \n",
       "\n",
       "        dob_r  gamma_dob group_l group_r  \n",
       "0  2015-10-29          1       0       0  \n",
       "1  2011-07-30          0       0      21  \n",
       "2  2013-01-20          0       0      22  \n",
       "3  2000-03-24          0       0      23  \n",
       "4  2005-04-09          0       0      24  "
      ]
     },
     "execution_count": 34,
     "metadata": {},
     "output_type": "execute_result"
    }
   ],
   "source": [
    "df_impala.head()"
   ]
  },
  {
   "cell_type": "markdown",
   "metadata": {},
   "source": [
    "##### We round match probabilities and pick entities that are a match"
   ]
  },
  {
   "cell_type": "code",
   "execution_count": 47,
   "metadata": {},
   "outputs": [],
   "source": [
    "df_impala = df_impala.round(1)"
   ]
  },
  {
   "cell_type": "code",
   "execution_count": 51,
   "metadata": {},
   "outputs": [],
   "source": [
    "df_impala = df_impala[df_impala[\"match_probability\"] == 1]"
   ]
  },
  {
   "cell_type": "code",
   "execution_count": 54,
   "metadata": {},
   "outputs": [],
   "source": [
    "#Filtering duplicate columns\n",
    "df_impala = df_impala.filter(regex=\"_l\")"
   ]
  },
  {
   "cell_type": "code",
   "execution_count": 56,
   "metadata": {},
   "outputs": [],
   "source": [
    "df_impala.columns = df_impala.columns.str.replace(\"_l\", \"\")"
   ]
  },
  {
   "cell_type": "markdown",
   "metadata": {},
   "source": [
    "###### We are ready to upsert our matches into Impala"
   ]
  },
  {
   "cell_type": "code",
   "execution_count": 73,
   "metadata": {},
   "outputs": [],
   "source": [
    "import os\n",
    "import jaydebeapi\n",
    "conn = jaydebeapi.connect(\"com.cloudera.impala.jdbc.DataSource\",\n",
    "                          \"jdbc:impala://\"+os.environ[\"IMPALA_HOST\"]+\":443/;ssl=1;transportMode=http;httpPath=cliservice;AuthMech=3;\",\n",
    "                          {'UID': os.environ[\"WORKLOAD_USER\"], 'PWD': os.environ[\"WORKLOAD_PASSWORD\"]},\n",
    "                          '/home/cdsw/impala_drivers/ImpalaJDBC41.jar')"
   ]
  },
  {
   "cell_type": "code",
   "execution_count": 74,
   "metadata": {},
   "outputs": [],
   "source": [
    "cursor = conn.cursor()"
   ]
  },
  {
   "cell_type": "code",
   "execution_count": 75,
   "metadata": {},
   "outputs": [],
   "source": [
    "query = \"\"\"\n",
    "        CREATE TABLE IF NOT EXISTS ER_MATCHES (\n",
    "        unique_id VARCHAR,\n",
    "        first_name VARCHAR,\n",
    "        surname VARCHAR,\n",
    "        dob VARCHAR,\n",
    "        city  VARCHAR,\n",
    "        email VARCHAR,\n",
    "        groupP VARCHAR)\n",
    "        \"\"\""
   ]
  },
  {
   "cell_type": "code",
   "execution_count": 76,
   "metadata": {},
   "outputs": [],
   "source": [
    "cursor.execute(query)"
   ]
  },
  {
   "cell_type": "code",
   "execution_count": 77,
   "metadata": {},
   "outputs": [],
   "source": [
    "def upsert_linkage(data):\n",
    "\n",
    "    sql = \"\"\"insert into ER_MATCHES \\\n",
    "         (unique_id ,first_name,surname,dob,city,email,groupP) \\\n",
    "         values (?,?,?,?,?,?,?)\"\"\"\n",
    "    #print(data)\n",
    "    cursor.executemany(sql,data)"
   ]
  },
  {
   "cell_type": "code",
   "execution_count": 78,
   "metadata": {},
   "outputs": [],
   "source": [
    "def upsert_data_jaydebeapi(data, records=100):\n",
    "    total_records=0\n",
    "    header = True\n",
    "    rows = []\n",
    "    i=1\n",
    "\n",
    "    for index, row in data.iterrows():\n",
    "\n",
    "        rows.append ([f\"{row['unique_id']}\",\\\n",
    "                  f\"{row['first_name']}\",f\"{row['surname']}\",\\\n",
    "                  f\"{row['dob']}\",f\"{row['city']}\", \\\n",
    "                  f\"{row['email']}\", f\"{row['group']}\"])\n",
    "        total_records=total_records+1\n",
    "\n",
    "        if i < records + 1 :   \n",
    "            i=i+1\n",
    "        else :\n",
    "            upsert_linkage(rows)\n",
    "            rows = []\n",
    "            i=1\n",
    "            print (f\"Ingested {total_records} records\")\n",
    "\n",
    "    if len(rows) > 0 :\n",
    "        upsert_linkage(rows)\n",
    "\n",
    "    print (f\"Ingested {total_records} records\")"
   ]
  },
  {
   "cell_type": "code",
   "execution_count": 79,
   "metadata": {},
   "outputs": [
    {
     "name": "stdout",
     "output_type": "stream",
     "text": [
      "Ingested 101 records\n",
      "Ingested 181 records\n"
     ]
    }
   ],
   "source": [
    "upsert_data_jaydebeapi(df_impala)\n",
    "\n",
    "#curs.fetchall()\n",
    "\n",
    "#cursor.close()\n",
    "#conn.close()"
   ]
  },
  {
   "cell_type": "markdown",
   "metadata": {},
   "source": [
    "## Step 5: Create a Custom Atlas Type (Process) reflecting the EM algorithm"
   ]
  },
  {
   "cell_type": "markdown",
   "metadata": {},
   "source": [
    "First we need to instantiate the connection to Atlas in CDP"
   ]
  },
  {
   "cell_type": "code",
   "execution_count": 80,
   "metadata": {},
   "outputs": [],
   "source": [
    "import atlasclient"
   ]
  },
  {
   "cell_type": "markdown",
   "metadata": {},
   "source": [
    "Endpoint, Username and Passoword are stored as CML project variables and passed dynamically"
   ]
  },
  {
   "cell_type": "code",
   "execution_count": 82,
   "metadata": {},
   "outputs": [],
   "source": [
    "from atlasclient.client import Atlas\n",
    "client = Atlas(os.environ[\"ATLAS_ENDPOINT\"], port='', username=os.environ[\"WORKLOAD_USER\"], password=os.environ[\"WORKLOAD_PASSWORD\"])"
   ]
  },
  {
   "cell_type": "markdown",
   "metadata": {},
   "source": [
    "Verify the Client connection is working by querying a random Atlas entity"
   ]
  },
  {
   "cell_type": "code",
   "execution_count": 83,
   "metadata": {},
   "outputs": [],
   "source": [
    "guid = \"c845eb62-d85d-4591-8abe-0c31449cdd95\""
   ]
  },
  {
   "cell_type": "code",
   "execution_count": 84,
   "metadata": {},
   "outputs": [],
   "source": [
    "entity = client.entity_guid(guid)"
   ]
  },
  {
   "cell_type": "code",
   "execution_count": 85,
   "metadata": {},
   "outputs": [
    {
     "name": "stderr",
     "output_type": "stream",
     "text": [
      "ERROR:atlasclient.base:Missing attr EntityGuid: searchParameters\n"
     ]
    },
    {
     "data": {
      "text/plain": [
       "{'createTime': 1607119259591,\n",
       " 'description': None,\n",
       " 'displayName': None,\n",
       " 'metadata': {'default_project_engine_type': 'legacy_engine',\n",
       "  'project_description': 'Build an XGBoost model to predict churn using customer telco data.',\n",
       "  'project_visibility': 'private',\n",
       "  'service_name': 'mlgov/mlgovapiserver.mlx.cloudera.site@DEMO-AWS.YLCU-ATMI.CLOUDERA.SITE',\n",
       "  'session_username': 'alexbleakley'},\n",
       " 'modifiedTime': 1607119259591,\n",
       " 'name': 'Churn Modeling with XGBoost - alexbleakley',\n",
       " 'owner': 'alexbleakley',\n",
       " 'qualifiedName': 'crn:cdp:ml:us-west-1:8a1e15cd-04c2-48aa-8f35-b4a8c11997d3:workspace:ab34ab61-368e-46a2-923e-6c5830585734/affaa215-c794-436c-af69-dcccfffb3d02',\n",
       " 'replicatedFrom': None,\n",
       " 'replicatedTo': None,\n",
       " 'userDescription': None}"
      ]
     },
     "execution_count": 85,
     "metadata": {},
     "output_type": "execute_result"
    }
   ],
   "source": [
    "entity.entity['attributes']"
   ]
  },
  {
   "cell_type": "markdown",
   "metadata": {},
   "source": [
    "Looks like we have successfully established the connection. Next we can create a custom Atlas type (process) reflecting the EM algorithm"
   ]
  },
  {
   "cell_type": "code",
   "execution_count": 86,
   "metadata": {},
   "outputs": [],
   "source": [
    "typedef_dict = {\n",
    "    \"enumTypes\": [],\n",
    "    \"structTypes\": [],\n",
    "    \"classificationDefs\":[],\n",
    "    \"entityDefs\": [{\n",
    "        \"superTypes\": [\"Process\"],\n",
    "        \"name\": \"ER_algorithm\",\n",
    "        \"description\":\"custom_type_for_Entity_Resolution\",\n",
    "        \"attributeDefs\": [{\n",
    "            \"name\": \"startTime\",\n",
    "            \"isOptional\": True,\n",
    "            \"isUnique\": False,\n",
    "            \"isIndexable\": False,\n",
    "            \"typeName\":\"string\",\n",
    "            \"valuesMaxCount\":1,\n",
    "            \"cardinality\":\"SINGLE\",\n",
    "            \"valuesMinCount\":0\n",
    "        }]\n",
    "    }]\n",
    "}"
   ]
  },
  {
   "cell_type": "markdown",
   "metadata": {},
   "source": [
    "And we can now register the new type with Atlas. For more on the Atlas type model, please visit this page: https://docs.cloudera.com/runtime/7.2.7/cdp-governance-overview/topics/atlas-metadata-model-overview.html"
   ]
  },
  {
   "cell_type": "code",
   "execution_count": 87,
   "metadata": {},
   "outputs": [
    {
     "data": {
      "text/plain": [
       "<atlasclient.models.TypeDefs at 0x7f97cd706a20>"
      ]
     },
     "execution_count": 87,
     "metadata": {},
     "output_type": "execute_result"
    }
   ],
   "source": [
    "#Has already run once so will not run again\n",
    "client.typedefs.create(data=typedef_dict)"
   ]
  },
  {
   "cell_type": "markdown",
   "metadata": {},
   "source": [
    "## Step 6: Instantiate the EM algorithm in Atlas along with lineage reflecting our Linkage Job above"
   ]
  },
  {
   "cell_type": "markdown",
   "metadata": {},
   "source": [
    "Notice: we need to pass the Atlas guid for the two datasets we compared above as they were registered in Atlas when they were stored as a Spark table"
   ]
  },
  {
   "cell_type": "code",
   "execution_count": 37,
   "metadata": {},
   "outputs": [],
   "source": [
    "#Retrieving GUID's for the three tables via Atlas Client - search by name"
   ]
  },
  {
   "cell_type": "code",
   "execution_count": 93,
   "metadata": {},
   "outputs": [
    {
     "name": "stdout",
     "output_type": "stream",
     "text": [
      "a1fb2bf9-c720-4041-8281-f819ca22dc93\n",
      "{'owner': 'jmarchand', 'createTime': 1612185801515, 'qualifiedName': 'SIMPLE:US_POPULATION@cm', 'name': 'SIMPLE:US_POPULATION', 'description': 'SIMPLE:US_POPULATION'}\n",
      "hbase_table\n",
      "{'owner': 'jmarchand', 'createTime': 1612185801515, 'qualifiedName': 'SIMPLE:US_POPULATION@cm', 'name': 'SIMPLE:US_POPULATION', 'description': 'SIMPLE:US_POPULATION'}\n",
      "47fb76d7-c725-467e-b7e5-e9a44069148a\n",
      "{'owner': 'jmarchand', 'createTime': 1612187145196, 'qualifiedName': 'default:FR_POPULATION@cm', 'name': 'FR_POPULATION', 'description': 'FR_POPULATION'}\n",
      "hbase_table\n",
      "{'owner': 'jmarchand', 'createTime': 1612187145196, 'qualifiedName': 'default:FR_POPULATION@cm', 'name': 'FR_POPULATION', 'description': 'FR_POPULATION'}\n",
      "4fd2817b-fc13-47e2-aa54-70255a22ea25\n",
      "{'owner': 'jmarchand', 'createTime': 1612186479256, 'qualifiedName': 'default:US_POPULATION2@cm', 'name': 'US_POPULATION2', 'description': 'US_POPULATION2'}\n",
      "hbase_table\n",
      "{'owner': 'jmarchand', 'createTime': 1612186479256, 'qualifiedName': 'default:US_POPULATION2@cm', 'name': 'US_POPULATION2', 'description': 'US_POPULATION2'}\n",
      "73f2da6a-c71a-4aeb-9eaa-62ae538e06b6\n",
      "{'owner': 'shlomi', 'createTime': 1611238111089, 'qualifiedName': 'default:STOCKS_FEED@cm', 'name': 'STOCKS_FEED', 'description': 'STOCKS_FEED'}\n",
      "hbase_table\n",
      "{'owner': 'shlomi', 'createTime': 1611238111089, 'qualifiedName': 'default:STOCKS_FEED@cm', 'name': 'STOCKS_FEED', 'description': 'STOCKS_FEED'}\n",
      "0f12b32a-8f15-48a9-b720-065ed07ed07d\n",
      "{'owner': 'shlomi', 'createTime': 1610529572604, 'qualifiedName': 'default:STOCKS_FEED@cm', 'name': 'STOCKS_FEED', 'description': 'STOCKS_FEED'}\n",
      "hbase_table\n",
      "{'owner': 'shlomi', 'createTime': 1610529572604, 'qualifiedName': 'default:STOCKS_FEED@cm', 'name': 'STOCKS_FEED', 'description': 'STOCKS_FEED'}\n",
      "e3bb6d61-e38e-4660-a375-91f0509e20c6\n",
      "{'owner': 'shlomi', 'createTime': 1610557956267, 'qualifiedName': 'default:STOCKS_FEED@cm', 'name': 'STOCKS_FEED', 'description': 'STOCKS_FEED'}\n",
      "hbase_table\n",
      "{'owner': 'shlomi', 'createTime': 1610557956267, 'qualifiedName': 'default:STOCKS_FEED@cm', 'name': 'STOCKS_FEED', 'description': 'STOCKS_FEED'}\n",
      "834b2794-fb3a-48f9-8eb7-30d451fe3896\n",
      "{'owner': 'shlomi', 'createTime': 1610558085861, 'qualifiedName': 'default:STOCKS_FEED@cm', 'name': 'STOCKS_FEED', 'description': 'STOCKS_FEED'}\n",
      "hbase_table\n",
      "{'owner': 'shlomi', 'createTime': 1610558085861, 'qualifiedName': 'default:STOCKS_FEED@cm', 'name': 'STOCKS_FEED', 'description': 'STOCKS_FEED'}\n",
      "3d70e74d-52bf-4968-9454-b64b3ab6c0b7\n",
      "{'owner': 'yanliu', 'createTime': 1612930193636, 'qualifiedName': 'default:YanLiuHBaseTable@cm', 'name': 'YanLiuHBaseTable', 'description': 'YanLiuHBaseTable'}\n",
      "hbase_table\n",
      "{'owner': 'yanliu', 'createTime': 1612930193636, 'qualifiedName': 'default:YanLiuHBaseTable@cm', 'name': 'YanLiuHBaseTable', 'description': 'YanLiuHBaseTable'}\n",
      "a308a64f-8255-40e8-92ff-75bae75cde62\n",
      "{'owner': 'bliu', 'createTime': 1615222445173, 'qualifiedName': 'default:bliu_table3@cm', 'name': 'bliu_table3', 'description': 'bliu_table3'}\n",
      "hbase_table\n",
      "{'owner': 'bliu', 'createTime': 1615222445173, 'qualifiedName': 'default:bliu_table3@cm', 'name': 'bliu_table3', 'description': 'bliu_table3'}\n",
      "0d1f045b-9889-4f2f-bcc2-e851ab9f21d0\n",
      "{'owner': 'oliviermeignan', 'createTime': 1615717829435, 'qualifiedName': 'default:product@cm', 'name': 'product', 'description': 'product'}\n",
      "hbase_table\n",
      "{'owner': 'oliviermeignan', 'createTime': 1615717829435, 'qualifiedName': 'default:product@cm', 'name': 'product', 'description': 'product'}\n",
      "f7344276-1b01-4fd5-abb7-6454ae6d7c59\n",
      "{'owner': 'pauldefusco', 'createTime': 1615830959818, 'qualifiedName': 'default:TEST_TABLE_PAUL@cm', 'name': 'TEST_TABLE_PAUL', 'description': 'TEST_TABLE_PAUL'}\n",
      "hbase_table\n",
      "{'owner': 'pauldefusco', 'createTime': 1615830959818, 'qualifiedName': 'default:TEST_TABLE_PAUL@cm', 'name': 'TEST_TABLE_PAUL', 'description': 'TEST_TABLE_PAUL'}\n",
      "dfa8611a-04d7-45f5-97aa-fe4608b9c9ce\n",
      "{'owner': 'pauldefusco', 'createTime': 1615828839836, 'qualifiedName': 'default:test_table@cm', 'name': 'test_table', 'description': 'test_table'}\n",
      "hbase_table\n",
      "{'owner': 'pauldefusco', 'createTime': 1615828839836, 'qualifiedName': 'default:test_table@cm', 'name': 'test_table', 'description': 'test_table'}\n",
      "0074e989-f238-4bac-9680-143029a621b2\n",
      "{'owner': 'tspann', 'createTime': 1615894453676, 'qualifiedName': 'default:iottest@cm', 'name': 'iottest', 'description': 'iottest'}\n",
      "hbase_table\n",
      "{'owner': 'tspann', 'createTime': 1615894453676, 'qualifiedName': 'default:iottest@cm', 'name': 'iottest', 'description': 'iottest'}\n",
      "3b246d85-0297-44e3-a845-ae87116592fc\n",
      "{'owner': 'glivni', 'createTime': 1615989450214, 'qualifiedName': 'default:STOCKS_FEED@cm', 'name': 'STOCKS_FEED', 'description': 'STOCKS_FEED'}\n",
      "hbase_table\n",
      "{'owner': 'glivni', 'createTime': 1615989450214, 'qualifiedName': 'default:STOCKS_FEED@cm', 'name': 'STOCKS_FEED', 'description': 'STOCKS_FEED'}\n",
      "5cb30d6e-c2a4-495c-a9a5-8186110d98d8\n",
      "{'owner': 'srv_glivnimachine1', 'createTime': 1616061951293, 'qualifiedName': 'default:EMP_LAST_NAME@cm', 'name': 'EMP_LAST_NAME', 'description': 'EMP_LAST_NAME'}\n",
      "hbase_table\n",
      "{'owner': 'srv_glivnimachine1', 'createTime': 1616061951293, 'qualifiedName': 'default:EMP_LAST_NAME@cm', 'name': 'EMP_LAST_NAME', 'description': 'EMP_LAST_NAME'}\n",
      "f1c4f045-88be-4b22-81c7-ece90eee7f68\n",
      "{'owner': 'srv_glivnimachine1', 'createTime': 1616061942750, 'qualifiedName': 'default:EMPLOYEES@cm', 'name': 'EMPLOYEES', 'description': 'EMPLOYEES'}\n",
      "hbase_table\n",
      "{'owner': 'srv_glivnimachine1', 'createTime': 1616061942750, 'qualifiedName': 'default:EMPLOYEES@cm', 'name': 'EMPLOYEES', 'description': 'EMPLOYEES'}\n",
      "85c00763-013d-4546-8590-522bba09f2ba\n",
      "{'owner': 'srv_glivnimachine1', 'createTime': 1616061965999, 'qualifiedName': 'default:LOCATIONS@cm', 'name': 'LOCATIONS', 'description': 'LOCATIONS'}\n",
      "hbase_table\n",
      "{'owner': 'srv_glivnimachine1', 'createTime': 1616061965999, 'qualifiedName': 'default:LOCATIONS@cm', 'name': 'LOCATIONS', 'description': 'LOCATIONS'}\n",
      "dcf438e2-279c-49d1-96d3-35bebcfb55de\n",
      "{'owner': 'srv_glivnimachine1', 'createTime': 1616062000122, 'qualifiedName': 'default:LOCATION_ID_IDX@cm', 'name': 'LOCATION_ID_IDX', 'description': 'LOCATION_ID_IDX'}\n",
      "hbase_table\n",
      "{'owner': 'srv_glivnimachine1', 'createTime': 1616062000122, 'qualifiedName': 'default:LOCATION_ID_IDX@cm', 'name': 'LOCATION_ID_IDX', 'description': 'LOCATION_ID_IDX'}\n",
      "776f9d70-2641-44d6-bb58-65ffce2dde0b\n",
      "{'owner': 'srv_glivnimachine1', 'createTime': 1616061986660, 'qualifiedName': 'default:USER_ID_IDX@cm', 'name': 'USER_ID_IDX', 'description': 'USER_ID_IDX'}\n",
      "hbase_table\n",
      "{'owner': 'srv_glivnimachine1', 'createTime': 1616061986660, 'qualifiedName': 'default:USER_ID_IDX@cm', 'name': 'USER_ID_IDX', 'description': 'USER_ID_IDX'}\n",
      "1f6a9b3b-061f-42aa-8571-590347b2dc98\n",
      "{'owner': 'srv_glivnimachine1', 'createTime': 1616061978221, 'qualifiedName': 'default:EMPLOYEE_LOCATION@cm', 'name': 'EMPLOYEE_LOCATION', 'description': 'EMPLOYEE_LOCATION'}\n",
      "hbase_table\n",
      "{'owner': 'srv_glivnimachine1', 'createTime': 1616061978221, 'qualifiedName': 'default:EMPLOYEE_LOCATION@cm', 'name': 'EMPLOYEE_LOCATION', 'description': 'EMPLOYEE_LOCATION'}\n",
      "2272c216-1d06-4323-a5cb-1f8f80a094c6\n",
      "{'owner': 'srv_glivnimachine1', 'createTime': 1616063993929, 'qualifiedName': 'default:EMP_LAST_NAME@cm', 'name': 'EMP_LAST_NAME', 'description': 'EMP_LAST_NAME'}\n",
      "hbase_table\n",
      "{'owner': 'srv_glivnimachine1', 'createTime': 1616063993929, 'qualifiedName': 'default:EMP_LAST_NAME@cm', 'name': 'EMP_LAST_NAME', 'description': 'EMP_LAST_NAME'}\n",
      "c9154432-16e3-45e0-88e8-934f6debcaa9\n",
      "{'owner': 'srv_glivnimachine1', 'createTime': 1616063984373, 'qualifiedName': 'default:EMPLOYEES@cm', 'name': 'EMPLOYEES', 'description': 'EMPLOYEES'}\n",
      "hbase_table\n",
      "{'owner': 'srv_glivnimachine1', 'createTime': 1616063984373, 'qualifiedName': 'default:EMPLOYEES@cm', 'name': 'EMPLOYEES', 'description': 'EMPLOYEES'}\n",
      "c26f9e0c-a1e1-4e7b-9687-4a5e885e0ed5\n",
      "{'owner': 'srv_glivnimachine1', 'createTime': 1616064026828, 'qualifiedName': 'default:LOCATIONS@cm', 'name': 'LOCATIONS', 'description': 'LOCATIONS'}\n",
      "hbase_table\n",
      "{'owner': 'srv_glivnimachine1', 'createTime': 1616064026828, 'qualifiedName': 'default:LOCATIONS@cm', 'name': 'LOCATIONS', 'description': 'LOCATIONS'}\n",
      "e8f91796-cc06-4589-94c5-2c3853367564\n",
      "{'owner': 'srv_glivnimachine1', 'createTime': 1616064065859, 'qualifiedName': 'default:EMPLOYEE_LOCATION@cm', 'name': 'EMPLOYEE_LOCATION', 'description': 'EMPLOYEE_LOCATION'}\n",
      "hbase_table\n",
      "{'owner': 'srv_glivnimachine1', 'createTime': 1616064065859, 'qualifiedName': 'default:EMPLOYEE_LOCATION@cm', 'name': 'EMPLOYEE_LOCATION', 'description': 'EMPLOYEE_LOCATION'}\n",
      "5c902d6b-2bab-4c14-92d8-0080f11ae05e\n",
      "{'owner': 'srv_glivnimachine1', 'createTime': 1616064093219, 'qualifiedName': 'default:LOCATION_ID_IDX@cm', 'name': 'LOCATION_ID_IDX', 'description': 'LOCATION_ID_IDX'}\n",
      "hbase_table\n",
      "{'owner': 'srv_glivnimachine1', 'createTime': 1616064093219, 'qualifiedName': 'default:LOCATION_ID_IDX@cm', 'name': 'LOCATION_ID_IDX', 'description': 'LOCATION_ID_IDX'}\n",
      "e13f89c0-0134-4999-8986-b775e549aafa\n",
      "{'owner': 'srv_glivnimachine1', 'createTime': 1616064075040, 'qualifiedName': 'default:USER_ID_IDX@cm', 'name': 'USER_ID_IDX', 'description': 'USER_ID_IDX'}\n",
      "hbase_table\n",
      "{'owner': 'srv_glivnimachine1', 'createTime': 1616064075040, 'qualifiedName': 'default:USER_ID_IDX@cm', 'name': 'USER_ID_IDX', 'description': 'USER_ID_IDX'}\n",
      "59ae9e09-dc82-4887-bbe1-765bb3eb52df\n",
      "{'owner': 'srv_glivnimachine1', 'createTime': 1616068106083, 'qualifiedName': 'default:EMP_LAST_NAME@cm', 'name': 'EMP_LAST_NAME', 'description': 'EMP_LAST_NAME'}\n",
      "hbase_table\n",
      "{'owner': 'srv_glivnimachine1', 'createTime': 1616068106083, 'qualifiedName': 'default:EMP_LAST_NAME@cm', 'name': 'EMP_LAST_NAME', 'description': 'EMP_LAST_NAME'}\n",
      "1867de96-0696-4a6f-a424-f8dc637d416f\n",
      "{'owner': 'srv_glivnimachine1', 'createTime': 1616068087365, 'qualifiedName': 'default:EMPLOYEES@cm', 'name': 'EMPLOYEES', 'description': 'EMPLOYEES'}\n",
      "hbase_table\n",
      "{'owner': 'srv_glivnimachine1', 'createTime': 1616068087365, 'qualifiedName': 'default:EMPLOYEES@cm', 'name': 'EMPLOYEES', 'description': 'EMPLOYEES'}\n",
      "61e70101-0cc0-40f9-84f2-1777557b79f6\n",
      "{'owner': 'srv_glivnimachine1', 'createTime': 1616068128571, 'qualifiedName': 'default:LOCATIONS@cm', 'name': 'LOCATIONS', 'description': 'LOCATIONS'}\n",
      "hbase_table\n",
      "{'owner': 'srv_glivnimachine1', 'createTime': 1616068128571, 'qualifiedName': 'default:LOCATIONS@cm', 'name': 'LOCATIONS', 'description': 'LOCATIONS'}\n",
      "3b2188de-eac5-4d6a-b735-8be15e6c62be\n",
      "{'owner': 'srv_glivnimachine1', 'createTime': 1616068161188, 'qualifiedName': 'default:EMPLOYEE_LOCATION@cm', 'name': 'EMPLOYEE_LOCATION', 'description': 'EMPLOYEE_LOCATION'}\n",
      "hbase_table\n",
      "{'owner': 'srv_glivnimachine1', 'createTime': 1616068161188, 'qualifiedName': 'default:EMPLOYEE_LOCATION@cm', 'name': 'EMPLOYEE_LOCATION', 'description': 'EMPLOYEE_LOCATION'}\n",
      "245ad047-bc14-4c7f-861e-bb1822fcfb9b\n",
      "{'owner': 'srv_glivnimachine1', 'createTime': 1616068189442, 'qualifiedName': 'default:LOCATION_ID_IDX@cm', 'name': 'LOCATION_ID_IDX', 'description': 'LOCATION_ID_IDX'}\n",
      "hbase_table\n",
      "{'owner': 'srv_glivnimachine1', 'createTime': 1616068189442, 'qualifiedName': 'default:LOCATION_ID_IDX@cm', 'name': 'LOCATION_ID_IDX', 'description': 'LOCATION_ID_IDX'}\n",
      "7c2cf4c5-a1c0-4222-bb48-2a44dbac4f77\n",
      "{'owner': 'srv_glivnimachine1', 'createTime': 1616068175970, 'qualifiedName': 'default:USER_ID_IDX@cm', 'name': 'USER_ID_IDX', 'description': 'USER_ID_IDX'}\n",
      "hbase_table\n",
      "{'owner': 'srv_glivnimachine1', 'createTime': 1616068175970, 'qualifiedName': 'default:USER_ID_IDX@cm', 'name': 'USER_ID_IDX', 'description': 'USER_ID_IDX'}\n",
      "6e5e616a-98be-489a-bb7f-2df951eeb0e3\n",
      "{'owner': 'srv_glivnimachine1', 'createTime': 1616078992632, 'qualifiedName': 'default:EMP_LAST_NAME@cm', 'name': 'EMP_LAST_NAME', 'description': 'EMP_LAST_NAME'}\n",
      "hbase_table\n",
      "{'owner': 'srv_glivnimachine1', 'createTime': 1616078992632, 'qualifiedName': 'default:EMP_LAST_NAME@cm', 'name': 'EMP_LAST_NAME', 'description': 'EMP_LAST_NAME'}\n",
      "4dd50141-18d0-4793-b704-3868e0f81aed\n",
      "{'owner': 'srv_glivnimachine1', 'createTime': 1616078984210, 'qualifiedName': 'default:EMPLOYEES@cm', 'name': 'EMPLOYEES', 'description': 'EMPLOYEES'}\n",
      "hbase_table\n",
      "{'owner': 'srv_glivnimachine1', 'createTime': 1616078984210, 'qualifiedName': 'default:EMPLOYEES@cm', 'name': 'EMPLOYEES', 'description': 'EMPLOYEES'}\n",
      "89645946-8bfe-42aa-9e9f-78b2003ff912\n",
      "{'owner': 'srv_glivnimachine1', 'createTime': 1616079019703, 'qualifiedName': 'default:LOCATIONS@cm', 'name': 'LOCATIONS', 'description': 'LOCATIONS'}\n",
      "hbase_table\n",
      "{'owner': 'srv_glivnimachine1', 'createTime': 1616079019703, 'qualifiedName': 'default:LOCATIONS@cm', 'name': 'LOCATIONS', 'description': 'LOCATIONS'}\n",
      "69108ff9-194e-4609-b565-ac5838ea1685\n",
      "{'owner': 'srv_glivnimachine1', 'createTime': 1616079053621, 'qualifiedName': 'default:USER_ID_IDX@cm', 'name': 'USER_ID_IDX', 'description': 'USER_ID_IDX'}\n",
      "hbase_table\n",
      "{'owner': 'srv_glivnimachine1', 'createTime': 1616079053621, 'qualifiedName': 'default:USER_ID_IDX@cm', 'name': 'USER_ID_IDX', 'description': 'USER_ID_IDX'}\n",
      "fb33a340-4284-43a2-95bc-4f2b2f1ba085\n",
      "{'owner': 'srv_glivnimachine1', 'createTime': 1616079067897, 'qualifiedName': 'default:LOCATION_ID_IDX@cm', 'name': 'LOCATION_ID_IDX', 'description': 'LOCATION_ID_IDX'}\n",
      "hbase_table\n",
      "{'owner': 'srv_glivnimachine1', 'createTime': 1616079067897, 'qualifiedName': 'default:LOCATION_ID_IDX@cm', 'name': 'LOCATION_ID_IDX', 'description': 'LOCATION_ID_IDX'}\n",
      "eb3f9cec-b5a7-4e26-b859-3309e4425082\n",
      "{'owner': 'srv_glivnimachine1', 'createTime': 1616079045189, 'qualifiedName': 'default:EMPLOYEE_LOCATION@cm', 'name': 'EMPLOYEE_LOCATION', 'description': 'EMPLOYEE_LOCATION'}\n",
      "hbase_table\n",
      "{'owner': 'srv_glivnimachine1', 'createTime': 1616079045189, 'qualifiedName': 'default:EMPLOYEE_LOCATION@cm', 'name': 'EMPLOYEE_LOCATION', 'description': 'EMPLOYEE_LOCATION'}\n",
      "63d2498e-9144-4964-ac88-5c49a33a9635\n",
      "{'owner': 'sprakash', 'createTime': 1616269725778, 'qualifiedName': 'default:cod-cvs-demo@cm', 'name': 'default:cod-cvs-demo', 'description': 'cod-cvs-demo'}\n",
      "hbase_table\n",
      "{'owner': 'sprakash', 'createTime': 1616269725778, 'qualifiedName': 'default:cod-cvs-demo@cm', 'name': 'default:cod-cvs-demo', 'description': 'cod-cvs-demo'}\n",
      "cc1ad093-3ce3-4edb-bbf3-096e3a176814\n",
      "{'owner': 'srv_glivnimachine1', 'createTime': 1616432048338, 'qualifiedName': 'default:USER_ID_IDX@cm', 'name': 'USER_ID_IDX', 'description': 'USER_ID_IDX'}\n",
      "hbase_table\n",
      "{'owner': 'srv_glivnimachine1', 'createTime': 1616432048338, 'qualifiedName': 'default:USER_ID_IDX@cm', 'name': 'USER_ID_IDX', 'description': 'USER_ID_IDX'}\n",
      "319c5f33-9248-44b8-bd97-eedee9f49a11\n",
      "{'owner': 'srv_glivnimachine1', 'createTime': 1616432039655, 'qualifiedName': 'default:EMPLOYEE_LOCATION@cm', 'name': 'EMPLOYEE_LOCATION', 'description': 'EMPLOYEE_LOCATION'}\n",
      "hbase_table\n",
      "{'owner': 'srv_glivnimachine1', 'createTime': 1616432039655, 'qualifiedName': 'default:EMPLOYEE_LOCATION@cm', 'name': 'EMPLOYEE_LOCATION', 'description': 'EMPLOYEE_LOCATION'}\n",
      "54f5def3-f69a-4296-ab37-83e73f0b9528\n",
      "{'owner': 'srv_glivnimachine1', 'createTime': 1616432015281, 'qualifiedName': 'default:EMP_LAST_NAME@cm', 'name': 'EMP_LAST_NAME', 'description': 'EMP_LAST_NAME'}\n",
      "hbase_table\n",
      "{'owner': 'srv_glivnimachine1', 'createTime': 1616432015281, 'qualifiedName': 'default:EMP_LAST_NAME@cm', 'name': 'EMP_LAST_NAME', 'description': 'EMP_LAST_NAME'}\n",
      "e7a8048f-7e9d-44f2-938b-b1f9e4057cbe\n",
      "{'owner': 'srv_glivnimachine1', 'createTime': 1616432006502, 'qualifiedName': 'default:EMPLOYEES@cm', 'name': 'EMPLOYEES', 'description': 'EMPLOYEES'}\n",
      "hbase_table\n",
      "{'owner': 'srv_glivnimachine1', 'createTime': 1616432006502, 'qualifiedName': 'default:EMPLOYEES@cm', 'name': 'EMPLOYEES', 'description': 'EMPLOYEES'}\n",
      "6a81908f-b6af-457e-a592-3f8b8f53cf28\n",
      "{'owner': 'srv_glivnimachine1', 'createTime': 1616432030897, 'qualifiedName': 'default:LOCATIONS@cm', 'name': 'LOCATIONS', 'description': 'LOCATIONS'}\n",
      "hbase_table\n",
      "{'owner': 'srv_glivnimachine1', 'createTime': 1616432030897, 'qualifiedName': 'default:LOCATIONS@cm', 'name': 'LOCATIONS', 'description': 'LOCATIONS'}\n",
      "682d3b33-289e-45ce-bf51-e91afb4fda85\n",
      "{'owner': 'srv_glivnimachine1', 'createTime': 1616432066560, 'qualifiedName': 'default:LOCATION_ID_IDX@cm', 'name': 'LOCATION_ID_IDX', 'description': 'LOCATION_ID_IDX'}\n",
      "hbase_table\n",
      "{'owner': 'srv_glivnimachine1', 'createTime': 1616432066560, 'qualifiedName': 'default:LOCATION_ID_IDX@cm', 'name': 'LOCATION_ID_IDX', 'description': 'LOCATION_ID_IDX'}\n",
      "da085a27-af24-483e-a814-d187665c02d3\n",
      "{'owner': 'glivni', 'createTime': 1616495294204, 'qualifiedName': 'default:orders@cm', 'name': 'orders', 'description': 'orders'}\n",
      "hbase_table\n",
      "{'owner': 'glivni', 'createTime': 1616495294204, 'qualifiedName': 'default:orders@cm', 'name': 'orders', 'description': 'orders'}\n",
      "182aaf84-e8ce-4db0-a5c8-5d9623acf454\n",
      "{'owner': 'shlomi', 'createTime': 1610626227809, 'qualifiedName': 'default:STOCKS_FEED@cm', 'name': 'STOCKS_FEED', 'description': 'STOCKS_FEED'}\n",
      "hbase_table\n",
      "{'owner': 'shlomi', 'createTime': 1610626227809, 'qualifiedName': 'default:STOCKS_FEED@cm', 'name': 'STOCKS_FEED', 'description': 'STOCKS_FEED'}\n",
      "297033b8-14d0-4358-ad50-d7292b1ba17d\n",
      "{'owner': 'shlomi', 'createTime': 1610631971834, 'qualifiedName': 'default:STOCKS_FEED@cm', 'name': 'STOCKS_FEED', 'description': 'STOCKS_FEED'}\n",
      "hbase_table\n",
      "{'owner': 'shlomi', 'createTime': 1610631971834, 'qualifiedName': 'default:STOCKS_FEED@cm', 'name': 'STOCKS_FEED', 'description': 'STOCKS_FEED'}\n",
      "d7a64f7f-cfa3-49d4-9644-044f1231c4f9\n",
      "{'owner': 'krmaheshwari', 'createTime': 1611098017512, 'qualifiedName': 'default:TestTable@cm', 'name': 'TestTable', 'description': 'TestTable'}\n",
      "hbase_table\n",
      "{'owner': 'krmaheshwari', 'createTime': 1611098017512, 'qualifiedName': 'default:TestTable@cm', 'name': 'TestTable', 'description': 'TestTable'}\n",
      "350771f1-4aea-466c-973c-a416b1aba982\n",
      "{'owner': 'christopherroyles', 'createTime': 1611154973719, 'qualifiedName': 'default:MODELS@cm', 'name': 'MODELS', 'description': 'MODELS'}\n",
      "hbase_table\n",
      "{'owner': 'christopherroyles', 'createTime': 1611154973719, 'qualifiedName': 'default:MODELS@cm', 'name': 'MODELS', 'description': 'MODELS'}\n",
      "e9d2db7e-ce63-416b-b418-e03832c2247b\n",
      "{'owner': 'christopherroyles', 'createTime': 1611159995317, 'qualifiedName': 'default:US_POPULATION@cm', 'name': 'US_POPULATION', 'description': 'US_POPULATION'}\n",
      "hbase_table\n",
      "{'owner': 'christopherroyles', 'createTime': 1611159995317, 'qualifiedName': 'default:US_POPULATION@cm', 'name': 'US_POPULATION', 'description': 'US_POPULATION'}\n",
      "8d388761-fcfb-40f8-9502-75e9e801199b\n",
      "{'owner': 'shlomi', 'createTime': 1611073305532, 'qualifiedName': 'default:STOCKS_FEED@cm', 'name': 'STOCKS_FEED', 'description': 'STOCKS_FEED'}\n",
      "hbase_table\n",
      "{'owner': 'shlomi', 'createTime': 1611073305532, 'qualifiedName': 'default:STOCKS_FEED@cm', 'name': 'STOCKS_FEED', 'description': 'STOCKS_FEED'}\n",
      "57bf7008-b8e4-4416-893a-1250823ae659\n",
      "{'owner': 'mropars', 'createTime': 1611912107224, 'qualifiedName': 'default:USERS@cm', 'name': 'USERS', 'description': 'USERS'}\n",
      "hbase_table\n",
      "{'owner': 'mropars', 'createTime': 1611912107224, 'qualifiedName': 'default:USERS@cm', 'name': 'USERS', 'description': 'USERS'}\n",
      "cfd82363-d6d2-45e5-8c35-b3547c116801\n",
      "{'owner': 'hbase', 'createTime': 1616643478432, 'qualifiedName': 'hbase:acl@cm', 'name': 'hbase:acl', 'description': 'hbase:acl'}\n",
      "hbase_table\n",
      "{'owner': 'hbase', 'createTime': 1616643478432, 'qualifiedName': 'hbase:acl@cm', 'name': 'hbase:acl', 'description': 'hbase:acl'}\n",
      "e26109c4-b70a-4583-a361-3de4539f532f\n",
      "{'owner': 'pauldefusco', 'createTime': 1616698932645, 'qualifiedName': 'default:CML_WORKSHOP_TABLE_RIGHT@cm', 'name': 'CML_WORKSHOP_TABLE_RIGHT', 'description': 'CML_WORKSHOP_TABLE_RIGHT'}\n",
      "hbase_table\n",
      "{'owner': 'pauldefusco', 'createTime': 1616698932645, 'qualifiedName': 'default:CML_WORKSHOP_TABLE_RIGHT@cm', 'name': 'CML_WORKSHOP_TABLE_RIGHT', 'description': 'CML_WORKSHOP_TABLE_RIGHT'}\n",
      "7f450230-1768-4c92-848b-b6abfbc54b4c\n",
      "{'owner': 'pauldefusco', 'createTime': 1616698906567, 'qualifiedName': 'SYSTEM:MUTEX@cm', 'name': 'SYSTEM:MUTEX', 'description': 'SYSTEM:MUTEX'}\n",
      "hbase_table\n",
      "{'owner': 'pauldefusco', 'createTime': 1616698906567, 'qualifiedName': 'SYSTEM:MUTEX@cm', 'name': 'SYSTEM:MUTEX', 'description': 'SYSTEM:MUTEX'}\n",
      "aa8eed2b-126d-4719-88b9-fa92db453c41\n",
      "{'owner': 'pauldefusco', 'createTime': 1616698881565, 'qualifiedName': 'SYSTEM:FUNCTION@cm', 'name': 'SYSTEM:FUNCTION', 'description': 'SYSTEM:FUNCTION'}\n",
      "hbase_table\n",
      "{'owner': 'pauldefusco', 'createTime': 1616698881565, 'qualifiedName': 'SYSTEM:FUNCTION@cm', 'name': 'SYSTEM:FUNCTION', 'description': 'SYSTEM:FUNCTION'}\n",
      "2463f5b9-2d6c-4645-91ca-7915ea5ece06\n",
      "{'owner': 'pauldefusco', 'createTime': 1616698889934, 'qualifiedName': 'SYSTEM:LOG@cm', 'name': 'SYSTEM:LOG', 'description': 'SYSTEM:LOG'}\n",
      "hbase_table\n",
      "{'owner': 'pauldefusco', 'createTime': 1616698889934, 'qualifiedName': 'SYSTEM:LOG@cm', 'name': 'SYSTEM:LOG', 'description': 'SYSTEM:LOG'}\n",
      "b839d08f-05c0-4e7f-8be8-0cb3651f332f\n",
      "{'owner': 'pauldefusco', 'createTime': 1616698865392, 'qualifiedName': 'SYSTEM:SEQUENCE@cm', 'name': 'SYSTEM:SEQUENCE', 'description': 'SYSTEM:SEQUENCE'}\n",
      "hbase_table\n",
      "{'owner': 'pauldefusco', 'createTime': 1616698865392, 'qualifiedName': 'SYSTEM:SEQUENCE@cm', 'name': 'SYSTEM:SEQUENCE', 'description': 'SYSTEM:SEQUENCE'}\n",
      "839a2170-6189-4abc-b644-323ca1b2a5fe\n",
      "{'owner': 'pauldefusco', 'createTime': 1616698841397, 'qualifiedName': 'SYSTEM:CATALOG@cm', 'name': 'SYSTEM:CATALOG', 'description': 'SYSTEM:CATALOG'}\n",
      "hbase_table\n",
      "{'owner': 'pauldefusco', 'createTime': 1616698841397, 'qualifiedName': 'SYSTEM:CATALOG@cm', 'name': 'SYSTEM:CATALOG', 'description': 'SYSTEM:CATALOG'}\n",
      "f946658a-42ad-4f0a-9227-9645ff65d7e7\n",
      "{'owner': 'pauldefusco', 'createTime': 1616698873295, 'qualifiedName': 'SYSTEM:STATS@cm', 'name': 'SYSTEM:STATS', 'description': 'SYSTEM:STATS'}\n",
      "hbase_table\n",
      "{'owner': 'pauldefusco', 'createTime': 1616698873295, 'qualifiedName': 'SYSTEM:STATS@cm', 'name': 'SYSTEM:STATS', 'description': 'SYSTEM:STATS'}\n"
     ]
    }
   ],
   "source": [
    "params = {'typeName': 'hbase_table', 'attrName': 'data', 'attrValue': 'provider','offset': '1', 'limit':'100'}\n",
    "search_results = client.search_basic(**params)\n",
    "for s in search_results:\n",
    "    for e in s.entities:\n",
    "        print(e.guid)\n",
    "        print(e.attributes)\n",
    "        #print(e.attributes.values)\n",
    "        print(e.typeName)\n",
    "        print(e.attributes)"
   ]
  },
  {
   "cell_type": "code",
   "execution_count": 39,
   "metadata": {},
   "outputs": [],
   "source": [
    "params = {'typeName': 'hive_table', 'attrName': 'name', 'attrValue': 'cc_data', 'offset': '1', 'limit':'10'}\n",
    "search_results = client.search_attribute(**params)\n",
    "for s in search_results:\n",
    "    for e in s.entities:\n",
    "        print(e.guid)\n",
    "        print(e.attributes)"
   ]
  },
  {
   "cell_type": "code",
   "execution_count": 40,
   "metadata": {},
   "outputs": [],
   "source": [
    "for s in search_results:\n",
    "    print(s.entities.to_dict())"
   ]
  },
  {
   "cell_type": "code",
   "execution_count": 41,
   "metadata": {},
   "outputs": [],
   "source": [
    "data = {'typeName': 'hive_table', 'attrName': 'name', 'attrValue': 'cc_data', 'offset': '1', 'limit': '100'}\n",
    "search_results = client.search_basic.create(data=data)\n",
    "for e in search_results.entities:\n",
    "    print(e.guid)\n",
    "    print(e.attributes)"
   ]
  },
  {
   "cell_type": "markdown",
   "metadata": {},
   "source": [
    "##### We can now create a new process type in Atlas reflecting the ER Algorithm "
   ]
  },
  {
   "cell_type": "code",
   "execution_count": 95,
   "metadata": {},
   "outputs": [],
   "source": [
    "process_entity_dict = {\n",
    "  \"entity\" : {\n",
    "    \"guid\" : \"-2089428075574333\",\n",
    "    \"status\" : \"ACTIVE\",\n",
    "    \"createdBy\" : \"pdefusco\",\n",
    "    \"updatedBy\" : \"pdefusco\",\n",
    "    \"createTime\" : \"12342\",\n",
    "    \"updateTime\" : \"12342\",\n",
    "    \"version\" : \"12342\",\n",
    "    \"relationshipAttributes\" : {},\n",
    "    \"classifications\" : [],\n",
    "    \"typeName\" : \"ER_algorithm\",\n",
    "    \"attributes\" : {\n",
    "      \"startTime\" : \"123\",\n",
    "      \"qualifiedName\": \"EM Record Linkage\",\n",
    "      \"name\":\"EM Record Linkage\",\n",
    "      \"description\":\"Record Linkage Algorithm\",\n",
    "      \"owner\": \"pdefusco\",\n",
    "        #, \n",
    "      \"inputs\":[{\"guid\": \"2bcde123-67f2-4ed7-a781-4824085a2d90\", \"typeName\":\"hive_table\"},\n",
    "               {\"guid\": \"e26109c4-b70a-4583-a361-3de4539f532f\", \"typeName\":\"hbase_table\"}], \n",
    "      \"outputs\":[{\"guid\":\"ae778e6b-57f4-486e-9643-7ae574a9e16b\", \"type_name\":\"hive_table\"}]\n",
    "    }, \n",
    "  },\n",
    "  \n",
    "}"
   ]
  },
  {
   "cell_type": "code",
   "execution_count": 96,
   "metadata": {},
   "outputs": [
    {
     "data": {
      "text/plain": [
       "{'guidAssignments': {'-2089428075574333': '19d036e1-a2d5-47f4-89a6-701cc591212a'},\n",
       " 'mutatedEntities': {'CREATE': [{'attributes': {'description': 'Record Linkage Algorithm',\n",
       "     'name': 'EM Record Linkage',\n",
       "     'owner': 'pdefusco',\n",
       "     'qualifiedName': 'EM Record Linkage'},\n",
       "    'classificationNames': [],\n",
       "    'classifications': [],\n",
       "    'displayText': 'EM Record Linkage',\n",
       "    'guid': '19d036e1-a2d5-47f4-89a6-701cc591212a',\n",
       "    'isIncomplete': False,\n",
       "    'labels': [],\n",
       "    'meaningNames': [],\n",
       "    'meanings': [],\n",
       "    'status': 'ACTIVE',\n",
       "    'typeName': 'ER_algorithm'}],\n",
       "  'UPDATE': [{'attributes': {'createTime': 1617238814000,\n",
       "     'name': 'matches_spark_table',\n",
       "     'owner': 'pauldefusco',\n",
       "     'qualifiedName': 'default.matches_spark_table@cm'},\n",
       "    'classificationNames': [],\n",
       "    'displayText': 'matches_spark_table',\n",
       "    'guid': 'ae778e6b-57f4-486e-9643-7ae574a9e16b',\n",
       "    'isIncomplete': False,\n",
       "    'labels': [],\n",
       "    'meaningNames': [],\n",
       "    'meanings': [],\n",
       "    'status': 'ACTIVE',\n",
       "    'typeName': 'hive_table'},\n",
       "   {'attributes': {'createTime': 1616698932645,\n",
       "     'description': 'CML_WORKSHOP_TABLE_RIGHT',\n",
       "     'name': 'CML_WORKSHOP_TABLE_RIGHT',\n",
       "     'owner': 'pauldefusco',\n",
       "     'qualifiedName': 'default:CML_WORKSHOP_TABLE_RIGHT@cm'},\n",
       "    'classificationNames': [],\n",
       "    'displayText': 'CML_WORKSHOP_TABLE_RIGHT',\n",
       "    'guid': 'e26109c4-b70a-4583-a361-3de4539f532f',\n",
       "    'isIncomplete': False,\n",
       "    'labels': [],\n",
       "    'meaningNames': [],\n",
       "    'meanings': [],\n",
       "    'status': 'ACTIVE',\n",
       "    'typeName': 'hbase_table'},\n",
       "   {'attributes': {'createTime': 1616906345000,\n",
       "     'name': 'mytable',\n",
       "     'owner': 'pauldefusco',\n",
       "     'qualifiedName': 'default.mytable@cm'},\n",
       "    'classificationNames': [],\n",
       "    'displayText': 'mytable',\n",
       "    'guid': '2bcde123-67f2-4ed7-a781-4824085a2d90',\n",
       "    'isIncomplete': False,\n",
       "    'labels': [],\n",
       "    'meaningNames': [],\n",
       "    'meanings': [],\n",
       "    'status': 'ACTIVE',\n",
       "    'typeName': 'hive_table'}]}}"
      ]
     },
     "execution_count": 96,
     "metadata": {},
     "output_type": "execute_result"
    }
   ],
   "source": [
    "client.entity_post.create(data=process_entity_dict)"
   ]
  },
  {
   "cell_type": "markdown",
   "metadata": {},
   "source": [
    "##### Go back to the CDP Homepage, then Data Catalog -> Atlas and browse for \"ER_algorithm\". Open the instance and navigate to the \"Lineage\" tab "
   ]
  },
  {
   "cell_type": "markdown",
   "metadata": {},
   "source": [
    "![title](images/EM_Record_Linkage.png)"
   ]
  },
  {
   "cell_type": "markdown",
   "metadata": {},
   "source": [
    "## Step 8: Create a new Atlas Process Type related to writing a Spark Dataset to Impala and Instantiate it with source and target"
   ]
  },
  {
   "cell_type": "code",
   "execution_count": null,
   "metadata": {},
   "outputs": [],
   "source": [
    "typedef_dict = {\n",
    "    \"enumTypes\": [],\n",
    "    \"structTypes\": [],\n",
    "    \"classificationDefs\":[],\n",
    "    \"entityDefs\": [{\n",
    "        \"superTypes\": [\"Process\"],\n",
    "        \"name\": \"Write_to_Impala\",\n",
    "        \"description\":\"write_to_impala\",\n",
    "        \"attributeDefs\": [{\n",
    "            \"name\": \"startTime\",\n",
    "            \"isOptional\": True,\n",
    "            \"isUnique\": False,\n",
    "            \"isIndexable\": False,\n",
    "            \"typeName\":\"string\",\n",
    "            \"valuesMaxCount\":1,\n",
    "            \"cardinality\":\"SINGLE\",\n",
    "            \"valuesMinCount\":0\n",
    "        }]\n",
    "    }]\n",
    "}"
   ]
  },
  {
   "cell_type": "code",
   "execution_count": null,
   "metadata": {},
   "outputs": [],
   "source": [
    "process_entity_dict = {\n",
    "  \"entity\" : {\n",
    "    \"guid\" : \"-2089428075574888\",\n",
    "    \"status\" : \"ACTIVE\",\n",
    "    \"createdBy\" : \"pdefusco\",\n",
    "    \"updatedBy\" : \"pdefusco\",\n",
    "    \"createTime\" : \"12342\",\n",
    "    \"updateTime\" : \"12342\",\n",
    "    \"version\" : \"12342\",\n",
    "    \"relationshipAttributes\" : {},\n",
    "    \"classifications\" : [],\n",
    "    \"typeName\" : \"Write_to_Impala\",\n",
    "    \"attributes\" : {\n",
    "      \"startTime\" : \"123\",\n",
    "      \"qualifiedName\": \"Write_to_Impala\",\n",
    "      \"name\":\"Write_to_Impala\",\n",
    "      \"description\":\"Record Linkage Algorithm\",\n",
    "      \"owner\": \"pdefusco\",\n",
    "        #, \n",
    "      \"inputs\":[{\"guid\": \"ae778e6b-57f4-486e-9643-7ae574a9e16b\", \"typeName\":\"hive_table\"}], \n",
    "      \"outputs\":[{\"guid\":\"INSERT IMPALA TABLE GUID HERE\", \"type_name\":\"IMPALA_TABLE???\"}]\n",
    "    }, \n",
    "  },\n",
    "  \n",
    "}"
   ]
  },
  {
   "cell_type": "code",
   "execution_count": null,
   "metadata": {},
   "outputs": [],
   "source": []
  },
  {
   "cell_type": "code",
   "execution_count": null,
   "metadata": {},
   "outputs": [],
   "source": []
  },
  {
   "cell_type": "code",
   "execution_count": null,
   "metadata": {},
   "outputs": [],
   "source": []
  },
  {
   "cell_type": "code",
   "execution_count": null,
   "metadata": {},
   "outputs": [],
   "source": []
  },
  {
   "cell_type": "code",
   "execution_count": null,
   "metadata": {},
   "outputs": [],
   "source": []
  },
  {
   "cell_type": "markdown",
   "metadata": {},
   "source": [
    "![title](images/ER_atlas_lineage.png)"
   ]
  },
  {
   "cell_type": "markdown",
   "metadata": {},
   "source": [
    "Next we can optionally remove the EM Algorithm instance from Atlas via the client"
   ]
  },
  {
   "cell_type": "code",
   "execution_count": null,
   "metadata": {},
   "outputs": [],
   "source": [
    "entity = client.entity_guid(\"44848fe5-6950-4a73-a89c-9775b736b4c9\")"
   ]
  },
  {
   "cell_type": "code",
   "execution_count": null,
   "metadata": {},
   "outputs": [],
   "source": [
    "entity.entity['attributes'][\"owner\"]"
   ]
  },
  {
   "cell_type": "code",
   "execution_count": null,
   "metadata": {},
   "outputs": [],
   "source": [
    "entity.delete()"
   ]
  },
  {
   "cell_type": "markdown",
   "metadata": {},
   "source": [
    "## We have completed our introduction to Splink and the Atlas Client. \n",
    "## Next we will simulate a real world Application with CML Jobs and COD (Cloudera Operational Database)"
   ]
  }
 ],
 "metadata": {
  "kernelspec": {
   "display_name": "Python 3",
   "language": "python",
   "name": "python3"
  },
  "language_info": {
   "codemirror_mode": {
    "name": "ipython",
    "version": 3
   },
   "file_extension": ".py",
   "mimetype": "text/x-python",
   "name": "python",
   "nbconvert_exporter": "python",
   "pygments_lexer": "ipython3",
   "version": "3.6.10"
  }
 },
 "nbformat": 4,
 "nbformat_minor": 4
}
