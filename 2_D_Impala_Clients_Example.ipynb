{
 "cells": [
  {
   "cell_type": "markdown",
   "metadata": {},
   "source": [
    "## Impala Clients Example"
   ]
  },
  {
   "cell_type": "markdown",
   "metadata": {},
   "source": [
    "#### You can use the Impyla library to connect directly to an Impala Data Warehouse in the Cloudera Data Warehouse Service\n",
    "\n",
    "#### Notice we are reusing the workload user and password variables we had set up for the phoenix client. Thanks to IDBroker, CDP will allow you to connect to different services using the same credentials - as long as your user and roles have been set at the environment/service level"
   ]
  },
  {
   "cell_type": "markdown",
   "metadata": {},
   "source": [
    "#### To find the Impala host, navigate to your CDW virtual warehouse and copy the url from the \"Copy JDBC URL button\". "
   ]
  },
  {
   "cell_type": "markdown",
   "metadata": {},
   "source": [
    "![title](images/Impala_copyurl.png)"
   ]
  },
  {
   "cell_type": "markdown",
   "metadata": {},
   "source": [
    "#### Paste the value in a notepad editor and cut the url string starting after the \"//\" and up to and including \".cloudera.site\"\n",
    "\n",
    "#### Finally, set this as an environment variable called \"IMPALA_HOST\""
   ]
  },
  {
   "cell_type": "markdown",
   "metadata": {},
   "source": [
    "You can connect to the virtual warehouse as shown below and issue queries"
   ]
  },
  {
   "cell_type": "code",
   "execution_count": 1,
   "metadata": {},
   "outputs": [
    {
     "name": "stdout",
     "output_type": "stream",
     "text": [
      "('_impala_builtins', 'System database for Impala builtin functions')\n",
      "('default', 'Default Hive database')\n"
     ]
    }
   ],
   "source": [
    "import os\n",
    "import pandas as pd\n",
    "from impala.dbapi import connect\n",
    "from impala.util import as_pandas\n",
    "\n",
    "IMPALA_PORT=\"443\" \n",
    "\n",
    "conn = connect(host=os.environ[\"IMPALA_HOST\"],\n",
    "               port=IMPALA_PORT,\n",
    "               auth_mechanism=\"LDAP\",\n",
    "               user=os.environ[\"WORKLOAD_USER\"],\n",
    "               password=os.environ[\"WORKLOAD_PASSWORD\"],\n",
    "               use_http_transport=True,\n",
    "               http_path=\"/cliservice\",\n",
    "               use_ssl=True)\n",
    "\n",
    "# Execute using SQL\n",
    "# cursor = conn.cursor()\n",
    "cursor = conn.cursor()\n",
    "cursor.execute('show databases')\n",
    "for row in cursor:\n",
    "    print(row)"
   ]
  },
  {
   "cell_type": "markdown",
   "metadata": {},
   "source": [
    "Now we can load the other dataframe we are going to compare in notebook 3"
   ]
  },
  {
   "cell_type": "code",
   "execution_count": 2,
   "metadata": {},
   "outputs": [],
   "source": [
    "import pandas as pd\n",
    "df = pd.read_parquet(\"data/fake_df_r.parquet\", engine=\"pyarrow\")"
   ]
  },
  {
   "cell_type": "code",
   "execution_count": 3,
   "metadata": {},
   "outputs": [],
   "source": [
    "query = \"\"\"\n",
    "        CREATE TABLE IF NOT EXISTS CML_WORKSHOP_TABLE_RIGHT (\n",
    "        unique_id VARCHAR,\n",
    "        first_name VARCHAR,\n",
    "        surname VARCHAR,\n",
    "        dob VARCHAR,\n",
    "        city  VARCHAR,\n",
    "        email VARCHAR,\n",
    "        groupp VARCHAR)\n",
    "        \"\"\""
   ]
  },
  {
   "cell_type": "code",
   "execution_count": 4,
   "metadata": {},
   "outputs": [],
   "source": [
    "cursor.execute(query)"
   ]
  },
  {
   "cell_type": "code",
   "execution_count": 5,
   "metadata": {},
   "outputs": [],
   "source": [
    "def upsert_linkage(data):\n",
    "\n",
    "    sql = \"\"\"insert into CML_WORKSHOP_TABLE_RIGHT \\\n",
    "         (unique_id ,first_name,surname,dob,city,email,groupp) \\\n",
    "         values (?,?,?,?,?,?,?)\"\"\"\n",
    "    #print(data)\n",
    "    cursor.executemany(sql,data)"
   ]
  },
  {
   "cell_type": "code",
   "execution_count": 6,
   "metadata": {},
   "outputs": [],
   "source": [
    "def upsert_data(data, records=100):\n",
    "    total_records=0\n",
    "    header = True\n",
    "    rows = []\n",
    "    i=1\n",
    "\n",
    "    for index, row in data.iterrows():\n",
    "\n",
    "        rows.append ([f\"{row['unique_id']}\",\\\n",
    "                  f\"{row['first_name']}\",f\"{row['surname']}\",\\\n",
    "                  f\"{row['dob']}\",f\"{row['city']}\", \\\n",
    "                  f\"{row['email']}\", f\"{row['group']}\"])\n",
    "        total_records=total_records+1\n",
    "\n",
    "        if i < records + 1 :   \n",
    "            i=i+1\n",
    "        else :\n",
    "            upsert_linkage(rows)\n",
    "            rows = []\n",
    "            i=1\n",
    "            print (f\"Ingested {total_records} records\")\n",
    "\n",
    "    if len(rows) > 0 :\n",
    "        upsert_linkage(rows)\n",
    "\n",
    "    print (f\"Ingested {total_records} records\")"
   ]
  },
  {
   "cell_type": "code",
   "execution_count": 7,
   "metadata": {},
   "outputs": [
    {
     "name": "stdout",
     "output_type": "stream",
     "text": [
      "Ingested 101 records\n",
      "Ingested 202 records\n",
      "Ingested 303 records\n",
      "Ingested 404 records\n",
      "Ingested 505 records\n",
      "Ingested 606 records\n",
      "Ingested 707 records\n",
      "Ingested 808 records\n",
      "Ingested 819 records\n"
     ]
    }
   ],
   "source": [
    "upsert_data(df, records=100)"
   ]
  },
  {
   "cell_type": "markdown",
   "metadata": {},
   "source": [
    "#### Next, check that your insert has executed successfully"
   ]
  },
  {
   "cell_type": "code",
   "execution_count": 8,
   "metadata": {},
   "outputs": [],
   "source": [
    "query = \"\"\"\n",
    "        SELECT COUNT(*) FROM CML_WORKSHOP_TABLE_RIGHT\n",
    "        \"\"\"\n",
    "cursor.execute(query)"
   ]
  },
  {
   "cell_type": "markdown",
   "metadata": {},
   "source": [
    "## The Jaydebeapi library is an effective alternative if you need to load data faster"
   ]
  },
  {
   "cell_type": "markdown",
   "metadata": {},
   "source": [
    "You can also use the Ibis library. It has a richer set of options for interacting with Pandas dataframes."
   ]
  },
  {
   "cell_type": "code",
   "execution_count": 9,
   "metadata": {},
   "outputs": [],
   "source": [
    "def upsert_data_jaydebeapi(data, records=100):\n",
    "    total_records=0\n",
    "    header = True\n",
    "    rows = []\n",
    "    i=1\n",
    "\n",
    "    for index, row in data.iterrows():\n",
    "\n",
    "        rows.append ([f\"{row['unique_id']}\",\\\n",
    "                  f\"{row['first_name']}\",f\"{row['surname']}\",\\\n",
    "                  f\"{row['dob']}\",f\"{row['city']}\", \\\n",
    "                  f\"{row['email']}\", f\"{row['group']}\"])\n",
    "        total_records=total_records+1\n",
    "\n",
    "        if i < records + 1 :   \n",
    "            i=i+1\n",
    "        else :\n",
    "            upsert_linkage(rows)\n",
    "            rows = []\n",
    "            i=1\n",
    "            print (f\"Ingested {total_records} records\")\n",
    "\n",
    "    if len(rows) > 0 :\n",
    "        upsert_linkage(rows)\n",
    "\n",
    "    print (f\"Ingested {total_records} records\")"
   ]
  },
  {
   "cell_type": "code",
   "execution_count": 10,
   "metadata": {},
   "outputs": [
    {
     "name": "stdout",
     "output_type": "stream",
     "text": [
      "Ingested 101 records\n",
      "Ingested 202 records\n",
      "Ingested 303 records\n",
      "Ingested 404 records\n",
      "Ingested 505 records\n",
      "Ingested 606 records\n",
      "Ingested 707 records\n",
      "Ingested 808 records\n",
      "Ingested 819 records\n"
     ]
    },
    {
     "ename": "NameError",
     "evalue": "name 'curs' is not defined",
     "output_type": "error",
     "traceback": [
      "\u001b[0;31m---------------------------------------------------------------------------\u001b[0m",
      "\u001b[0;31mNameError\u001b[0m                                 Traceback (most recent call last)",
      "\u001b[0;32m<ipython-input-10-53446b04745c>\u001b[0m in \u001b[0;36m<module>\u001b[0;34m()\u001b[0m\n\u001b[1;32m     11\u001b[0m \u001b[0;31m#curs.fetchall()\u001b[0m\u001b[0;34m\u001b[0m\u001b[0;34m\u001b[0m\u001b[0;34m\u001b[0m\u001b[0m\n\u001b[1;32m     12\u001b[0m \u001b[0;34m\u001b[0m\u001b[0m\n\u001b[0;32m---> 13\u001b[0;31m \u001b[0mcurs\u001b[0m\u001b[0;34m.\u001b[0m\u001b[0mclose\u001b[0m\u001b[0;34m(\u001b[0m\u001b[0;34m)\u001b[0m\u001b[0;34m\u001b[0m\u001b[0;34m\u001b[0m\u001b[0m\n\u001b[0m\u001b[1;32m     14\u001b[0m \u001b[0mconn\u001b[0m\u001b[0;34m.\u001b[0m\u001b[0mclose\u001b[0m\u001b[0;34m(\u001b[0m\u001b[0;34m)\u001b[0m\u001b[0;34m\u001b[0m\u001b[0;34m\u001b[0m\u001b[0m\n",
      "\u001b[0;31mNameError\u001b[0m: name 'curs' is not defined"
     ]
    }
   ],
   "source": [
    "import os\n",
    "import jaydebeapi\n",
    "conn = jaydebeapi.connect(\"com.cloudera.impala.jdbc.DataSource\",\n",
    "                          \"jdbc:impala://\"+os.environ[\"IMPALA_HOST\"]+\":443/;ssl=1;transportMode=http;httpPath=cliservice;AuthMech=3;\",\n",
    "                          {'UID': os.environ[\"WORKLOAD_USER\"], 'PWD': os.environ[\"WORKLOAD_PASSWORD\"]},\n",
    "                          '/home/cdsw/impala_drivers/ImpalaJDBC41.jar')\n",
    "cursor = conn.cursor()\n",
    "\n",
    "upsert_data_jaydebeapi(df, records=100)\n",
    "\n",
    "#curs.fetchall()\n",
    "\n",
    "curs.close()\n",
    "conn.close()"
   ]
  },
  {
   "cell_type": "code",
   "execution_count": null,
   "metadata": {},
   "outputs": [],
   "source": []
  },
  {
   "cell_type": "code",
   "execution_count": null,
   "metadata": {},
   "outputs": [],
   "source": []
  },
  {
   "cell_type": "code",
   "execution_count": null,
   "metadata": {},
   "outputs": [],
   "source": []
  }
 ],
 "metadata": {
  "kernelspec": {
   "display_name": "Python 3",
   "language": "python",
   "name": "python3"
  },
  "language_info": {
   "codemirror_mode": {
    "name": "ipython",
    "version": 3
   },
   "file_extension": ".py",
   "mimetype": "text/x-python",
   "name": "python",
   "nbconvert_exporter": "python",
   "pygments_lexer": "ipython3",
   "version": "3.6.10"
  }
 },
 "nbformat": 4,
 "nbformat_minor": 4
}
