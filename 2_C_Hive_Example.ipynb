{
 "cells": [
  {
   "cell_type": "markdown",
   "metadata": {},
   "source": [
    "## Writing a table to Hive via Spark"
   ]
  },
  {
   "cell_type": "code",
   "execution_count": 1,
   "metadata": {},
   "outputs": [],
   "source": [
    "from pyspark.sql import SparkSession"
   ]
  },
  {
   "cell_type": "code",
   "execution_count": 2,
   "metadata": {},
   "outputs": [],
   "source": [
    "spark = SparkSession\\\n",
    "    .builder\\\n",
    "    .appName(\"CDW-CML-Spark-Direct\")\\\n",
    "    .config(\"spark.sql.hive.hwc.execution.mode\",\"spark\")\\\n",
    "    .config(\"spark.sql.extensions\",\"com.qubole.spark.hiveacid.HiveAcidAutoConvertExtension\")\\\n",
    "    .config(\"spark.kryo.registrator\",\"com.qubole.spark.hiveacid.util.HiveAcidKyroRegistrator\")\\\n",
    "    .config(\"spark.yarn.access.hadoopFileSystems\",\"s3a://demo-aws-2/\")\\\n",
    "    .config(\"spark.jars\", \"/usr/lib/hive_warehouse_connector/hive-warehouse-connector-assembly-1.0.0.7.2.2.0-244.jar\")\\\n",
    "    .getOrCreate()"
   ]
  },
  {
   "cell_type": "code",
   "execution_count": 3,
   "metadata": {},
   "outputs": [
    {
     "name": "stdout",
     "output_type": "stream",
     "text": [
      "+--------------------+\n",
      "|        databaseName|\n",
      "+--------------------+\n",
      "|  airline_ontime_orc|\n",
      "|airline_ontime_pa...|\n",
      "|         airlinedata|\n",
      "|      airlinedata_ml|\n",
      "| airlinedata_parquet|\n",
      "|      airlinedata_ws|\n",
      "|              bank_a|\n",
      "|                dbgr|\n",
      "|             default|\n",
      "|          druid_hive|\n",
      "|             factory|\n",
      "|              flight|\n",
      "|            football|\n",
      "|          globe_demo|\n",
      "|                  hr|\n",
      "|  information_schema|\n",
      "|     insurance_fraud|\n",
      "|                 iot|\n",
      "|           marketing|\n",
      "|                 org|\n",
      "+--------------------+\n",
      "only showing top 20 rows\n",
      "\n",
      "+--------------------+--------------------+-------+\n",
      "|            col_name|           data_type|comment|\n",
      "+--------------------+--------------------+-------+\n",
      "|                   a|                 int|   null|\n",
      "|                   b|                 int|   null|\n",
      "|                    |                    |       |\n",
      "|# Detailed Table ...|                    |       |\n",
      "|            Database|             default|       |\n",
      "|               Table|                 foo|       |\n",
      "|               Owner|            priyankp|       |\n",
      "|        Created Time|Tue Mar 09 23:12:...|       |\n",
      "|         Last Access|Thu Jan 01 00:00:...|       |\n",
      "|          Created By|  Spark 2.2 or prior|       |\n",
      "|                Type|             MANAGED|       |\n",
      "|            Provider|                hive|       |\n",
      "|    Table Properties|[transactional=tr...|       |\n",
      "|          Statistics|  1330 bytes, 2 rows|       |\n",
      "|            Location|s3a://demo-aws-2/...|       |\n",
      "|       Serde Library|org.apache.hadoop...|       |\n",
      "|         InputFormat|org.apache.hadoop...|       |\n",
      "|        OutputFormat|org.apache.hadoop...|       |\n",
      "|  Partition Provider|             Catalog|       |\n",
      "+--------------------+--------------------+-------+\n",
      "\n",
      "+---+---+\n",
      "|  a|  b|\n",
      "+---+---+\n",
      "|  2|  2|\n",
      "|  3|  3|\n",
      "+---+---+\n",
      "\n",
      "+--------------------+--------------------+-------+\n",
      "|            col_name|           data_type|comment|\n",
      "+--------------------+--------------------+-------+\n",
      "|                   a|                 int|   null|\n",
      "|                   b|                 int|   null|\n",
      "|                    |                    |       |\n",
      "|# Detailed Table ...|                    |       |\n",
      "|            Database|             default|       |\n",
      "|               Table|             foo_ext|       |\n",
      "|               Owner|            priyankp|       |\n",
      "|        Created Time|Wed Mar 10 01:41:...|       |\n",
      "|         Last Access|Thu Jan 01 00:00:...|       |\n",
      "|          Created By|  Spark 2.2 or prior|       |\n",
      "|                Type|            EXTERNAL|       |\n",
      "|            Provider|                hive|       |\n",
      "|    Table Properties|[numFilesErasureC...|       |\n",
      "|          Statistics|   521 bytes, 1 rows|       |\n",
      "|            Location|s3a://demo-aws-2/...|       |\n",
      "|       Serde Library|org.apache.hadoop...|       |\n",
      "|         InputFormat|org.apache.hadoop...|       |\n",
      "|        OutputFormat|org.apache.hadoop...|       |\n",
      "|  Storage Properties|[serialization.fo...|       |\n",
      "|  Partition Provider|             Catalog|       |\n",
      "+--------------------+--------------------+-------+\n",
      "\n",
      "+---+---+\n",
      "|  a|  b|\n",
      "+---+---+\n",
      "|  1|  1|\n",
      "+---+---+\n",
      "\n"
     ]
    }
   ],
   "source": [
    "spark.sql(\"show databases\").show()\n",
    "spark.sql(\"describe formatted foo\").show()\n",
    "spark.sql(\"select * from foo\").show()\n",
    "spark.sql(\"describe formatted foo_ext\").show()\n",
    "spark.sql(\"select * from foo_ext\").show()"
   ]
  },
  {
   "cell_type": "code",
   "execution_count": 4,
   "metadata": {},
   "outputs": [],
   "source": [
    "df_r = spark.read.parquet(\"data/fake_df_r.parquet\")"
   ]
  },
  {
   "cell_type": "code",
   "execution_count": 6,
   "metadata": {},
   "outputs": [],
   "source": [
    "df_r.write.format('parquet').mode(\"overwrite\").saveAsTable('ER_table_right_new')"
   ]
  },
  {
   "cell_type": "code",
   "execution_count": null,
   "metadata": {},
   "outputs": [],
   "source": []
  }
 ],
 "metadata": {
  "kernelspec": {
   "display_name": "Python 3",
   "language": "python",
   "name": "python3"
  },
  "language_info": {
   "codemirror_mode": {
    "name": "ipython",
    "version": 3
   },
   "file_extension": ".py",
   "mimetype": "text/x-python",
   "name": "python",
   "nbconvert_exporter": "python",
   "pygments_lexer": "ipython3",
   "version": "3.6.10"
  }
 },
 "nbformat": 4,
 "nbformat_minor": 4
}
