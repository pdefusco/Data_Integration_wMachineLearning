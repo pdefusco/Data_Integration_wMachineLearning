{
 "cells": [
  {
   "cell_type": "markdown",
   "metadata": {},
   "source": [
    "## Writing a table to Hive via Spark"
   ]
  },
  {
   "cell_type": "markdown",
   "metadata": {},
   "source": [
    "![title](images/hive_metastore.png)"
   ]
  },
  {
   "cell_type": "code",
   "execution_count": 41,
   "metadata": {},
   "outputs": [],
   "source": [
    "from pyspark.sql import SparkSession"
   ]
  },
  {
   "cell_type": "code",
   "execution_count": 42,
   "metadata": {},
   "outputs": [],
   "source": [
    "spark = SparkSession\\\n",
    "    .builder\\\n",
    "    .appName(\"CDW-CML-Spark-Direct\")\\\n",
    "    .config(\"spark.sql.hive.hwc.execution.mode\",\"spark\")\\\n",
    "    .config(\"spark.sql.extensions\",\"com.qubole.spark.hiveacid.HiveAcidAutoConvertExtension\")\\\n",
    "    .config(\"spark.kryo.registrator\",\"com.qubole.spark.hiveacid.util.HiveAcidKyroRegistrator\")\\\n",
    "    .config(\"spark.yarn.access.hadoopFileSystems\",\"s3a://demo-aws-2/\")\\\n",
    "    .config(\"spark.jars\", \"/usr/lib/hive_warehouse_connector/hive-warehouse-connector-assembly-1.0.0.7.2.2.0-244.jar\")\\\n",
    "    .getOrCreate()"
   ]
  },
  {
   "cell_type": "code",
   "execution_count": 31,
   "metadata": {},
   "outputs": [],
   "source": [
    "spark = SparkSession\\\n",
    "    .builder\\\n",
    "    .appName(\"CDW-CML-Spark-Direct\")\\\n",
    "    .config(\"spark.sql.extensions\",\"com.hortonworks.spark.sql.rule.Extensions\")\\\n",
    "    .config(\"spark.datasource.hive.warehouse.read.mode\", \"DIRECT_READER_V1\")\\\n",
    "    .config(\"spark.yarn.access.hadoopFileSystems\",\"s3a://demo-aws-2/\")\\\n",
    "    .getOrCreate()"
   ]
  },
  {
   "cell_type": "code",
   "execution_count": 16,
   "metadata": {},
   "outputs": [],
   "source": [
    "#from pyspark_llap import HiveWarehouseSession\n",
    "#hive = HiveWarehouseSession.session(spark).build()"
   ]
  },
  {
   "cell_type": "code",
   "execution_count": 17,
   "metadata": {},
   "outputs": [],
   "source": [
    "#hive = com.hortonworks.spark.sql.hive.llap.HiveWarehouseBuilder.session(spark).build()"
   ]
  },
  {
   "cell_type": "code",
   "execution_count": 43,
   "metadata": {},
   "outputs": [
    {
     "name": "stdout",
     "output_type": "stream",
     "text": [
      "+--------------------+\n",
      "|        databaseName|\n",
      "+--------------------+\n",
      "|  airline_ontime_orc|\n",
      "|airline_ontime_pa...|\n",
      "|         airlinedata|\n",
      "|      airlinedata_ml|\n",
      "| airlinedata_parquet|\n",
      "|      airlinedata_ws|\n",
      "|              bank_a|\n",
      "|                dbgr|\n",
      "|             default|\n",
      "|          druid_hive|\n",
      "|             factory|\n",
      "|              flight|\n",
      "|            football|\n",
      "|          globe_demo|\n",
      "|                  hr|\n",
      "|  information_schema|\n",
      "|     insurance_fraud|\n",
      "|                 iot|\n",
      "|           marketing|\n",
      "|                 org|\n",
      "+--------------------+\n",
      "only showing top 20 rows\n",
      "\n"
     ]
    }
   ],
   "source": [
    "spark.sql(\"show databases\").show()"
   ]
  },
  {
   "cell_type": "code",
   "execution_count": 44,
   "metadata": {},
   "outputs": [],
   "source": [
    "df_r = spark.read.parquet(\"data/fake_df_r.parquet\")"
   ]
  },
  {
   "cell_type": "code",
   "execution_count": 46,
   "metadata": {},
   "outputs": [],
   "source": [
    "df_r.write.format(\"orc\").mode(\"overwrite\").saveAsTable('default.mytable')"
   ]
  },
  {
   "cell_type": "code",
   "execution_count": 40,
   "metadata": {},
   "outputs": [],
   "source": [
    "spark.stop()"
   ]
  },
  {
   "cell_type": "code",
   "execution_count": null,
   "metadata": {},
   "outputs": [],
   "source": []
  }
 ],
 "metadata": {
  "kernelspec": {
   "display_name": "Python 3",
   "language": "python",
   "name": "python3"
  },
  "language_info": {
   "codemirror_mode": {
    "name": "ipython",
    "version": 3
   },
   "file_extension": ".py",
   "mimetype": "text/x-python",
   "name": "python",
   "nbconvert_exporter": "python",
   "pygments_lexer": "ipython3",
   "version": "3.6.10"
  }
 },
 "nbformat": 4,
 "nbformat_minor": 4
}
